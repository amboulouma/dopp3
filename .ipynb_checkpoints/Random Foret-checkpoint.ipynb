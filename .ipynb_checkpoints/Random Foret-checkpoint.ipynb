{
 "cells": [
  {
   "cell_type": "markdown",
   "metadata": {
    "id": "slc_U58tJDtQ"
   },
   "source": [
    "# DOPP Assignment 3\n",
    "\n",
    "## Schedule\n",
    "\n",
    "### Week 1, first iteration\n",
    "\n",
    "- Explore: Amine, Satyam & Malbora\n",
    "\n",
    "**Due Date**: 18.01.2021, 20:00\n",
    "\n",
    "### Week 2, next iteration with the other dataset\n",
    "\n",
    "Adding data and checking if the previous one is really answering our questions\n",
    "\n",
    "**Meeting**: 18.01.2021, 20:00\n",
    "\n",
    "- Get: \n",
    "- Explore: \n",
    "- Model: \n",
    "- Visualize:\n",
    "- 2 pages PDF report: \n",
    "- Presentaion: \n",
    "\n",
    "**Due date**: 24.01.2021\n",
    "\n",
    "## Todo\n",
    "\n",
    "- Get: https://www.kaggle.com/stieranka/predicting-gdp-world-countries\n",
    "\n",
    "- Do all data process based on the dataset\n"
   ]
  },
  {
   "cell_type": "markdown",
   "metadata": {
    "id": "c2SH2tCLJiD-"
   },
   "source": [
    "## Ask\n",
    "\n",
    "- What percentage of the world population lives in extreme poverty? \n",
    "\n",
    "- Which characteristics are predictive for countries with large populations living in extreme poverty? \n",
    "\n",
    "- Which characteristics are predictive for populations emerging from extreme poverty?\n"
   ]
  },
  {
   "cell_type": "markdown",
   "metadata": {
    "id": "Dfqj80oVJB2I"
   },
   "source": [
    "## Get the Data\n",
    "\n"
   ]
  },
  {
   "cell_type": "markdown",
   "metadata": {
    "id": "bXmpB1gsOT1t"
   },
   "source": []
  },
  {
   "cell_type": "markdown",
   "metadata": {
    "id": "CNTVOm8wLXtM"
   },
   "source": [
    "- Get: https://www.kaggle.com/stieranka/predicting-gdp-world-countries"
   ]
  },
  {
   "cell_type": "markdown",
   "metadata": {
    "id": "xKtgPNvRJC8c"
   },
   "source": [
    "## Explore the Data\n",
    "\n",
    "In this dataset, we are exploring the dataset \"Nations of the World\" by Fernando Lasso. We will zero in on the components that influencing a nation's GDP for each capita and neediness and attempt to make a model utilizing the information of 227 nations from the dataset. I will likewise momentarily examine the absolute GDPs.\n"
   ]
  },
  {
   "cell_type": "code",
   "execution_count": 1,
   "metadata": {
    "id": "Uern26FLI5fG"
   },
   "outputs": [],
   "source": [
    "import numpy as np\n",
    "import matplotlib.pyplot as plt\n",
    "import pandas as pd\n",
    "import seaborn as sns\n",
    "\n"
   ]
  },
  {
   "cell_type": "markdown",
   "metadata": {
    "id": "xWCWZUAnNGlk"
   },
   "source": [
    "### Clean the data"
   ]
  },
  {
   "cell_type": "code",
   "execution_count": 2,
   "metadata": {
    "id": "aG1RP_7uQuMd"
   },
   "outputs": [],
   "source": [
    "dataset = pd.read_csv('https://gist.githubusercontent.com/amboulouma/6cbd30ab138e7414e190025ef39af80d/raw/6bf61690e51176d82d2703fa5c39cd5ed106d15d/countries%2520of%2520the%2520world.csv', decimal=',',dtype={'Country':'string'})"
   ]
  },
  {
   "cell_type": "markdown",
   "metadata": {
    "id": "MuXrfqKILUYA"
   },
   "source": [
    "### Missing Data"
   ]
  },
  {
   "cell_type": "markdown",
   "metadata": {
    "id": "mj_yXLeFLtpp"
   },
   "source": [
    "We saw that there are some missing information in the table. For effortlessness, I will simply fill the missing information utilizing the middle of the area that a nation has a place, as nations that are close topographically are regularly comparative from multiple points of view. For instance, lets check the district middle of 'Gross domestic product ($ per capita)', 'Proficiency (%)' and 'Farming'. Note that for 'atmosphere' we utilize the mode rather than middle as it appears to be that 'atmosphere' is an absolute element here."
   ]
  },
  {
   "cell_type": "code",
   "execution_count": 3,
   "metadata": {
    "colab": {
     "base_uri": "https://localhost:8080/",
     "height": 412
    },
    "id": "Lvf44V7bL1l6",
    "outputId": "69cb8852-7078-4c4b-ecbc-8be05e62a292"
   },
   "outputs": [
    {
     "data": {
      "text/html": [
       "<div>\n",
       "<style scoped>\n",
       "    .dataframe tbody tr th:only-of-type {\n",
       "        vertical-align: middle;\n",
       "    }\n",
       "\n",
       "    .dataframe tbody tr th {\n",
       "        vertical-align: top;\n",
       "    }\n",
       "\n",
       "    .dataframe thead th {\n",
       "        text-align: right;\n",
       "    }\n",
       "</style>\n",
       "<table border=\"1\" class=\"dataframe\">\n",
       "  <thead>\n",
       "    <tr style=\"text-align: right;\">\n",
       "      <th></th>\n",
       "      <th>GDP ($ per capita)</th>\n",
       "      <th>Literacy (%)</th>\n",
       "      <th>Agriculture</th>\n",
       "    </tr>\n",
       "    <tr>\n",
       "      <th>Region</th>\n",
       "      <th></th>\n",
       "      <th></th>\n",
       "      <th></th>\n",
       "    </tr>\n",
       "  </thead>\n",
       "  <tbody>\n",
       "    <tr>\n",
       "      <th>ASIA (EX. NEAR EAST)</th>\n",
       "      <td>3450.0</td>\n",
       "      <td>90.60</td>\n",
       "      <td>0.1610</td>\n",
       "    </tr>\n",
       "    <tr>\n",
       "      <th>BALTICS</th>\n",
       "      <td>11400.0</td>\n",
       "      <td>99.80</td>\n",
       "      <td>0.0400</td>\n",
       "    </tr>\n",
       "    <tr>\n",
       "      <th>C.W. OF IND. STATES</th>\n",
       "      <td>3450.0</td>\n",
       "      <td>99.05</td>\n",
       "      <td>0.1980</td>\n",
       "    </tr>\n",
       "    <tr>\n",
       "      <th>EASTERN EUROPE</th>\n",
       "      <td>9100.0</td>\n",
       "      <td>98.60</td>\n",
       "      <td>0.0815</td>\n",
       "    </tr>\n",
       "    <tr>\n",
       "      <th>LATIN AMER. &amp; CARIB</th>\n",
       "      <td>6300.0</td>\n",
       "      <td>94.05</td>\n",
       "      <td>0.0700</td>\n",
       "    </tr>\n",
       "    <tr>\n",
       "      <th>NEAR EAST</th>\n",
       "      <td>9250.0</td>\n",
       "      <td>83.00</td>\n",
       "      <td>0.0350</td>\n",
       "    </tr>\n",
       "    <tr>\n",
       "      <th>NORTHERN AFRICA</th>\n",
       "      <td>6000.0</td>\n",
       "      <td>70.00</td>\n",
       "      <td>0.1320</td>\n",
       "    </tr>\n",
       "    <tr>\n",
       "      <th>NORTHERN AMERICA</th>\n",
       "      <td>29800.0</td>\n",
       "      <td>97.50</td>\n",
       "      <td>0.0100</td>\n",
       "    </tr>\n",
       "    <tr>\n",
       "      <th>OCEANIA</th>\n",
       "      <td>5000.0</td>\n",
       "      <td>95.00</td>\n",
       "      <td>0.1505</td>\n",
       "    </tr>\n",
       "    <tr>\n",
       "      <th>SUB-SAHARAN AFRICA</th>\n",
       "      <td>1300.0</td>\n",
       "      <td>62.95</td>\n",
       "      <td>0.2760</td>\n",
       "    </tr>\n",
       "    <tr>\n",
       "      <th>WESTERN EUROPE</th>\n",
       "      <td>27200.0</td>\n",
       "      <td>99.00</td>\n",
       "      <td>0.0220</td>\n",
       "    </tr>\n",
       "  </tbody>\n",
       "</table>\n",
       "</div>"
      ],
      "text/plain": [
       "                                     GDP ($ per capita)  Literacy (%)  \\\n",
       "Region                                                                  \n",
       "ASIA (EX. NEAR EAST)                             3450.0         90.60   \n",
       "BALTICS                                         11400.0         99.80   \n",
       "C.W. OF IND. STATES                              3450.0         99.05   \n",
       "EASTERN EUROPE                                   9100.0         98.60   \n",
       "LATIN AMER. & CARIB                              6300.0         94.05   \n",
       "NEAR EAST                                        9250.0         83.00   \n",
       "NORTHERN AFRICA                                  6000.0         70.00   \n",
       "NORTHERN AMERICA                                29800.0         97.50   \n",
       "OCEANIA                                          5000.0         95.00   \n",
       "SUB-SAHARAN AFRICA                               1300.0         62.95   \n",
       "WESTERN EUROPE                                  27200.0         99.00   \n",
       "\n",
       "                                     Agriculture  \n",
       "Region                                            \n",
       "ASIA (EX. NEAR EAST)                      0.1610  \n",
       "BALTICS                                   0.0400  \n",
       "C.W. OF IND. STATES                       0.1980  \n",
       "EASTERN EUROPE                            0.0815  \n",
       "LATIN AMER. & CARIB                       0.0700  \n",
       "NEAR EAST                                 0.0350  \n",
       "NORTHERN AFRICA                           0.1320  \n",
       "NORTHERN AMERICA                          0.0100  \n",
       "OCEANIA                                   0.1505  \n",
       "SUB-SAHARAN AFRICA                        0.2760  \n",
       "WESTERN EUROPE                            0.0220  "
      ]
     },
     "execution_count": 3,
     "metadata": {},
     "output_type": "execute_result"
    }
   ],
   "source": [
    "  dataset.groupby('Region')[['GDP ($ per capita)', 'Literacy (%)', 'Agriculture']].median()\n"
   ]
  },
  {
   "cell_type": "markdown",
   "metadata": {
    "id": "g2xerViZNM_a"
   },
   "source": [
    "### Explore the data\n",
    "\n",
    "Correlation heatmap to understand the relationship between the data"
   ]
  },
  {
   "cell_type": "markdown",
   "metadata": {
    "id": "hJNmJBvMOdCh"
   },
   "source": [
    "Look at the lowest 50 countries by GDP per capita to check the poverty of those countries\n",
    "\n",
    "\n",
    "\n",
    "\n"
   ]
  },
  {
   "cell_type": "code",
   "execution_count": null,
   "metadata": {
    "id": "b3XKvlNYOjno"
   },
   "outputs": [],
   "source": []
  },
  {
   "cell_type": "markdown",
   "metadata": {
    "id": "brCG9t80PCnJ"
   },
   "source": [
    "Plotting the correlation of the GDP per capita with the rest of the features"
   ]
  },
  {
   "cell_type": "markdown",
   "metadata": {
    "id": "5Gam0vo8P4dB"
   },
   "source": [
    "We can notice here for example, high birthrate usually means low GDP per capita, but average GDP in low birthrate countries can vary a lot."
   ]
  },
  {
   "cell_type": "markdown",
   "metadata": {
    "id": "pxGd5imfIdm1"
   },
   "source": [
    "## Model the Data"
   ]
  },
  {
   "cell_type": "markdown",
   "metadata": {
    "id": "4EfFG7cxHBGW"
   },
   "source": [
    "# Information about Poverty Line Feautures\n",
    "The poverty gap index can be interpreted as the average percentage shortfall in income for the population, from the poverty line.[5]\n",
    "\n",
    "If you multiply a country's poverty gap index by both the poverty line and the total number of individuals in the country you get the total amount of money needed to bring the poor in the population out of extreme poverty and up to the poverty line, assuming perfect targeting of transfers. For example, suppose a country has 10 million individuals, a poverty line of $500 per year and a poverty gap index of 5%. Then an average increase of $25 per individual per year would eliminate extreme poverty. Note that $25 is 5% of the poverty line. The total increase needed to eliminate poverty is US$250 million—$25 multiplied by 10 million individuals.\n",
    "\n",
    "The poverty gap index is an important measure beyond the commonly used head count ratio. Two regions may have the similar head count ratio, but distinctly different poverty gap indices. A higher poverty gap index means that poverty is more severe.\n",
    "\n",
    "The poverty gap index is additive. In other words, the index can be used as an aggregate poverty measure, as well as decomposed for various sub-groups of the population, such as by region, employment sector, education level, gender, age or ethnic group."
   ]
  },
  {
   "cell_type": "markdown",
   "metadata": {
    "id": "l3IP8rZgLGxw"
   },
   "source": [
    "## Visualize The Data"
   ]
  },
  {
   "cell_type": "code",
   "execution_count": 4,
   "metadata": {
    "id": "Q_ryLC9O4jMp"
   },
   "outputs": [],
   "source": [
    "import pandas as pd\n",
    "import numpy as np\n",
    "import pandas as pd\n",
    "\n",
    "import matplotlib.pyplot as plt\n",
    "import seaborn as sns\n",
    "from sklearn.naive_bayes import GaussianNB\n",
    "from sklearn.model_selection import train_test_split\n",
    "from sklearn import preprocessing\n",
    "from sklearn.metrics import accuracy_score\n",
    "from sklearn.model_selection import cross_val_score, GridSearchCV, RandomizedSearchCV\n",
    "# Import tools needed for visualization\n",
    "from sklearn.tree import export_graphviz\n",
    "import pydot"
   ]
  },
  {
   "cell_type": "markdown",
   "metadata": {
    "id": "twqN9CM-4mJF"
   },
   "source": [
    "First we import 2 datasets and merge them into one called \"data\""
   ]
  },
  {
   "cell_type": "code",
   "execution_count": 5,
   "metadata": {
    "colab": {
     "base_uri": "https://localhost:8080/"
    },
    "id": "CTcNGQNMiSfA",
    "outputId": "6137162c-ba7a-44df-f2f2-92fcababfb4f"
   },
   "outputs": [
    {
     "name": "stderr",
     "output_type": "stream",
     "text": [
      "/Users/amineboulouma/opt/anaconda3/lib/python3.8/site-packages/pandas/core/frame.py:4296: SettingWithCopyWarning: \n",
      "A value is trying to be set on a copy of a slice from a DataFrame\n",
      "\n",
      "See the caveats in the documentation: https://pandas.pydata.org/pandas-docs/stable/user_guide/indexing.html#returning-a-view-versus-a-copy\n",
      "  return super().rename(\n"
     ]
    }
   ],
   "source": [
    "df = pd.read_csv('API_SI.POV.DDAY_DS2_en_csv_v2_1928965.csv',dtype={'Country':'string'})\n",
    "dataset = pd.read_csv('countries of the world.csv',dtype={'Country':'string'})\n",
    "\n",
    "#dataset = pd.read_csv('countries of the world (2).csv',dtype={'Country':'string','Region':'string','Population':np.int,'Area (sq. mi.)':np.int,'Pop. Density (per sq. mi.)':np.float32,\n",
    " #                                                                        'Coastline (coast/area ratio)':np.float32,'Net migration':np.float32,'Infant mortality (per 1000 births)':np.float32,'GDP ($ per capita)':np.float32,\n",
    " #                                                                        'Literacy (%)':np.float32,'Phones (per 1000)':np.float32,'Arable (%)':np.float32,'Crops (%)':np.float32,'Other (%)':np.float32,\n",
    " #                                                                        'Climate':np.float32,'Birthrate':np.float32,'Deathrate':np.float32,'Agriculture':np.float32,'Industry':np.float32,'Service':np.float32\n",
    "                                                                 #        })\n",
    "\n",
    "# dataset = pd.read_csv('https://gist.githubusercontent.com/amboulouma/6cbd30ab138e7414e190025ef39af80d/raw/423c4d9ea180052e4746131064f4d55bc60a87af/countries%2520of%2520the%2520world.csv')\n",
    "# df = pd.read_csv('https://gist.githubusercontent.com/amboulouma/80a397cf2996aecdefadc46870538c55/raw/897e1f3e707b9658f83d0c994458ab197295b5fb/poverty_headcount_ratio.csv')\n",
    "\n",
    "dataset = dataset.set_index('Country')\n",
    "poverty = df[[\"Country Name\",\"Country Code\",\"Indicator Name\",\"2017\"]]\n",
    "poverty.rename(columns={\"Country Name\": \"Country\"}, inplace=True)\n",
    "poverty = poverty.set_index('Country')\n",
    "data  = pd.merge(left=dataset, right=poverty, how ='left',left_index=True, right_index=True)"
   ]
  },
  {
   "cell_type": "markdown",
   "metadata": {
    "id": "mKYgocyJ0ZU0"
   },
   "source": [
    "Mdeling"
   ]
  },
  {
   "cell_type": "markdown",
   "metadata": {
    "id": "RKHy0BSQ34si"
   },
   "source": [
    "Checking for NA values "
   ]
  },
  {
   "cell_type": "code",
   "execution_count": 6,
   "metadata": {
    "colab": {
     "base_uri": "https://localhost:8080/",
     "height": 707
    },
    "id": "rpOPtdRocQZI",
    "outputId": "a6efb4e1-d7db-4d26-ff6d-b6bd60db9b0d"
   },
   "outputs": [
    {
     "data": {
      "text/html": [
       "<div>\n",
       "<style scoped>\n",
       "    .dataframe tbody tr th:only-of-type {\n",
       "        vertical-align: middle;\n",
       "    }\n",
       "\n",
       "    .dataframe tbody tr th {\n",
       "        vertical-align: top;\n",
       "    }\n",
       "\n",
       "    .dataframe thead th {\n",
       "        text-align: right;\n",
       "    }\n",
       "</style>\n",
       "<table border=\"1\" class=\"dataframe\">\n",
       "  <thead>\n",
       "    <tr style=\"text-align: right;\">\n",
       "      <th></th>\n",
       "      <th>data_type</th>\n",
       "      <th>null_count</th>\n",
       "    </tr>\n",
       "  </thead>\n",
       "  <tbody>\n",
       "    <tr>\n",
       "      <th>Region</th>\n",
       "      <td>object</td>\n",
       "      <td>0</td>\n",
       "    </tr>\n",
       "    <tr>\n",
       "      <th>Population</th>\n",
       "      <td>int64</td>\n",
       "      <td>0</td>\n",
       "    </tr>\n",
       "    <tr>\n",
       "      <th>Area (sq. mi.)</th>\n",
       "      <td>float64</td>\n",
       "      <td>0</td>\n",
       "    </tr>\n",
       "    <tr>\n",
       "      <th>Pop. Density (per sq. mi.)</th>\n",
       "      <td>float64</td>\n",
       "      <td>0</td>\n",
       "    </tr>\n",
       "    <tr>\n",
       "      <th>Coastline (coast/area ratio)</th>\n",
       "      <td>float64</td>\n",
       "      <td>0</td>\n",
       "    </tr>\n",
       "    <tr>\n",
       "      <th>Net migration</th>\n",
       "      <td>float64</td>\n",
       "      <td>3</td>\n",
       "    </tr>\n",
       "    <tr>\n",
       "      <th>Infant mortality (per 1000 births)</th>\n",
       "      <td>float64</td>\n",
       "      <td>3</td>\n",
       "    </tr>\n",
       "    <tr>\n",
       "      <th>GDP ($ per capita)</th>\n",
       "      <td>float64</td>\n",
       "      <td>1</td>\n",
       "    </tr>\n",
       "    <tr>\n",
       "      <th>Literacy (%)</th>\n",
       "      <td>float64</td>\n",
       "      <td>18</td>\n",
       "    </tr>\n",
       "    <tr>\n",
       "      <th>Phones (per 1000)</th>\n",
       "      <td>float64</td>\n",
       "      <td>4</td>\n",
       "    </tr>\n",
       "    <tr>\n",
       "      <th>Arable (%)</th>\n",
       "      <td>float64</td>\n",
       "      <td>2</td>\n",
       "    </tr>\n",
       "    <tr>\n",
       "      <th>Crops (%)</th>\n",
       "      <td>float64</td>\n",
       "      <td>2</td>\n",
       "    </tr>\n",
       "    <tr>\n",
       "      <th>Other (%)</th>\n",
       "      <td>float64</td>\n",
       "      <td>2</td>\n",
       "    </tr>\n",
       "    <tr>\n",
       "      <th>Climate</th>\n",
       "      <td>float64</td>\n",
       "      <td>22</td>\n",
       "    </tr>\n",
       "    <tr>\n",
       "      <th>Birthrate</th>\n",
       "      <td>float64</td>\n",
       "      <td>3</td>\n",
       "    </tr>\n",
       "    <tr>\n",
       "      <th>Deathrate</th>\n",
       "      <td>float64</td>\n",
       "      <td>4</td>\n",
       "    </tr>\n",
       "    <tr>\n",
       "      <th>Agriculture</th>\n",
       "      <td>float64</td>\n",
       "      <td>15</td>\n",
       "    </tr>\n",
       "    <tr>\n",
       "      <th>Industry</th>\n",
       "      <td>float64</td>\n",
       "      <td>16</td>\n",
       "    </tr>\n",
       "    <tr>\n",
       "      <th>Service</th>\n",
       "      <td>float64</td>\n",
       "      <td>15</td>\n",
       "    </tr>\n",
       "    <tr>\n",
       "      <th>Country Code</th>\n",
       "      <td>object</td>\n",
       "      <td>57</td>\n",
       "    </tr>\n",
       "    <tr>\n",
       "      <th>Indicator Name</th>\n",
       "      <td>object</td>\n",
       "      <td>57</td>\n",
       "    </tr>\n",
       "    <tr>\n",
       "      <th>2017</th>\n",
       "      <td>float64</td>\n",
       "      <td>168</td>\n",
       "    </tr>\n",
       "  </tbody>\n",
       "</table>\n",
       "</div>"
      ],
      "text/plain": [
       "                                   data_type  null_count\n",
       "Region                                object           0\n",
       "Population                             int64           0\n",
       "Area (sq. mi.)                       float64           0\n",
       "Pop. Density (per sq. mi.)           float64           0\n",
       "Coastline (coast/area ratio)         float64           0\n",
       "Net migration                        float64           3\n",
       "Infant mortality (per 1000 births)   float64           3\n",
       "GDP ($ per capita)                   float64           1\n",
       "Literacy (%)                         float64          18\n",
       "Phones (per 1000)                    float64           4\n",
       "Arable (%)                           float64           2\n",
       "Crops (%)                            float64           2\n",
       "Other (%)                            float64           2\n",
       "Climate                              float64          22\n",
       "Birthrate                            float64           3\n",
       "Deathrate                            float64           4\n",
       "Agriculture                          float64          15\n",
       "Industry                             float64          16\n",
       "Service                              float64          15\n",
       "Country Code                          object          57\n",
       "Indicator Name                        object          57\n",
       "2017                                 float64         168"
      ]
     },
     "execution_count": 6,
     "metadata": {},
     "output_type": "execute_result"
    }
   ],
   "source": [
    "info_table = pd.DataFrame(index=data.columns)\n",
    "info_table ['data_type'] = data.dtypes\n",
    "info_table ['null_count'] = data.isnull().sum()\n",
    "info_table"
   ]
  },
  {
   "cell_type": "markdown",
   "metadata": {
    "id": "qbRO7uaZ39RF"
   },
   "source": [
    "As we can observe there are many missing value "
   ]
  },
  {
   "cell_type": "code",
   "execution_count": 7,
   "metadata": {
    "colab": {
     "base_uri": "https://localhost:8080/"
    },
    "id": "FP_PbQ8yaD_Q",
    "outputId": "4703b8b1-103b-44b0-88f6-fcb6ec6aa055"
   },
   "outputs": [
    {
     "name": "stdout",
     "output_type": "stream",
     "text": [
      "\n",
      "Checking for ? values\n",
      "Country Name : 0\n",
      "Country Code : 0\n",
      "Indicator Name : 0\n",
      "Indicator Code : 0\n",
      "\n",
      "Checking for NA values\n",
      "Country Name : 0\n",
      "Country Code : 0\n",
      "Indicator Name : 0\n",
      "Indicator Code : 0\n",
      "\n",
      "Checking for - values\n",
      "Country Name : 0\n",
      "Country Code : 0\n",
      "Indicator Name : 0\n",
      "Indicator Code : 0\n"
     ]
    }
   ],
   "source": [
    "# Check if categorical variables contain values like \"?\"\n",
    "print(\"\\nChecking for ? values\")\n",
    "for value in df.select_dtypes(include='O'):\n",
    "  print(value,\":\", sum(df[value] == '?'))\n",
    "\n",
    "print(\"\\nChecking for NA values\")\n",
    "for value in df.select_dtypes(include='O'):\n",
    "  print(value,\":\", sum(df[value] == 'NA'))\n",
    "\n",
    "print(\"\\nChecking for - values\")\n",
    "for value in df.select_dtypes(include='O'):\n",
    "  print(value,\":\", sum(df[value] == '-'))"
   ]
  },
  {
   "cell_type": "markdown",
   "metadata": {
    "id": "1PJ8tNKuVD3-"
   },
   "source": [
    "Select only data for 2017 year the year of our original data"
   ]
  },
  {
   "cell_type": "code",
   "execution_count": 8,
   "metadata": {
    "id": "JWtDxxFO5zTb"
   },
   "outputs": [],
   "source": [
    "df_copy = data.dropna(how='any', subset=['2017'])"
   ]
  },
  {
   "cell_type": "code",
   "execution_count": 9,
   "metadata": {
    "colab": {
     "base_uri": "https://localhost:8080/",
     "height": 707
    },
    "id": "xVWa_7iK6ASp",
    "outputId": "76ef5ba4-a95f-4cc8-a131-5c05fc5524c2"
   },
   "outputs": [
    {
     "data": {
      "text/html": [
       "<div>\n",
       "<style scoped>\n",
       "    .dataframe tbody tr th:only-of-type {\n",
       "        vertical-align: middle;\n",
       "    }\n",
       "\n",
       "    .dataframe tbody tr th {\n",
       "        vertical-align: top;\n",
       "    }\n",
       "\n",
       "    .dataframe thead th {\n",
       "        text-align: right;\n",
       "    }\n",
       "</style>\n",
       "<table border=\"1\" class=\"dataframe\">\n",
       "  <thead>\n",
       "    <tr style=\"text-align: right;\">\n",
       "      <th></th>\n",
       "      <th>data_type</th>\n",
       "      <th>null_count</th>\n",
       "    </tr>\n",
       "  </thead>\n",
       "  <tbody>\n",
       "    <tr>\n",
       "      <th>Region</th>\n",
       "      <td>object</td>\n",
       "      <td>0</td>\n",
       "    </tr>\n",
       "    <tr>\n",
       "      <th>Population</th>\n",
       "      <td>int64</td>\n",
       "      <td>0</td>\n",
       "    </tr>\n",
       "    <tr>\n",
       "      <th>Area (sq. mi.)</th>\n",
       "      <td>float64</td>\n",
       "      <td>0</td>\n",
       "    </tr>\n",
       "    <tr>\n",
       "      <th>Pop. Density (per sq. mi.)</th>\n",
       "      <td>float64</td>\n",
       "      <td>0</td>\n",
       "    </tr>\n",
       "    <tr>\n",
       "      <th>Coastline (coast/area ratio)</th>\n",
       "      <td>float64</td>\n",
       "      <td>0</td>\n",
       "    </tr>\n",
       "    <tr>\n",
       "      <th>Net migration</th>\n",
       "      <td>float64</td>\n",
       "      <td>0</td>\n",
       "    </tr>\n",
       "    <tr>\n",
       "      <th>Infant mortality (per 1000 births)</th>\n",
       "      <td>float64</td>\n",
       "      <td>0</td>\n",
       "    </tr>\n",
       "    <tr>\n",
       "      <th>GDP ($ per capita)</th>\n",
       "      <td>float64</td>\n",
       "      <td>0</td>\n",
       "    </tr>\n",
       "    <tr>\n",
       "      <th>Literacy (%)</th>\n",
       "      <td>float64</td>\n",
       "      <td>0</td>\n",
       "    </tr>\n",
       "    <tr>\n",
       "      <th>Phones (per 1000)</th>\n",
       "      <td>float64</td>\n",
       "      <td>1</td>\n",
       "    </tr>\n",
       "    <tr>\n",
       "      <th>Arable (%)</th>\n",
       "      <td>float64</td>\n",
       "      <td>0</td>\n",
       "    </tr>\n",
       "    <tr>\n",
       "      <th>Crops (%)</th>\n",
       "      <td>float64</td>\n",
       "      <td>0</td>\n",
       "    </tr>\n",
       "    <tr>\n",
       "      <th>Other (%)</th>\n",
       "      <td>float64</td>\n",
       "      <td>0</td>\n",
       "    </tr>\n",
       "    <tr>\n",
       "      <th>Climate</th>\n",
       "      <td>float64</td>\n",
       "      <td>10</td>\n",
       "    </tr>\n",
       "    <tr>\n",
       "      <th>Birthrate</th>\n",
       "      <td>float64</td>\n",
       "      <td>1</td>\n",
       "    </tr>\n",
       "    <tr>\n",
       "      <th>Deathrate</th>\n",
       "      <td>float64</td>\n",
       "      <td>1</td>\n",
       "    </tr>\n",
       "    <tr>\n",
       "      <th>Agriculture</th>\n",
       "      <td>float64</td>\n",
       "      <td>0</td>\n",
       "    </tr>\n",
       "    <tr>\n",
       "      <th>Industry</th>\n",
       "      <td>float64</td>\n",
       "      <td>0</td>\n",
       "    </tr>\n",
       "    <tr>\n",
       "      <th>Service</th>\n",
       "      <td>float64</td>\n",
       "      <td>0</td>\n",
       "    </tr>\n",
       "    <tr>\n",
       "      <th>Country Code</th>\n",
       "      <td>object</td>\n",
       "      <td>0</td>\n",
       "    </tr>\n",
       "    <tr>\n",
       "      <th>Indicator Name</th>\n",
       "      <td>object</td>\n",
       "      <td>0</td>\n",
       "    </tr>\n",
       "    <tr>\n",
       "      <th>2017</th>\n",
       "      <td>float64</td>\n",
       "      <td>0</td>\n",
       "    </tr>\n",
       "  </tbody>\n",
       "</table>\n",
       "</div>"
      ],
      "text/plain": [
       "                                   data_type  null_count\n",
       "Region                                object           0\n",
       "Population                             int64           0\n",
       "Area (sq. mi.)                       float64           0\n",
       "Pop. Density (per sq. mi.)           float64           0\n",
       "Coastline (coast/area ratio)         float64           0\n",
       "Net migration                        float64           0\n",
       "Infant mortality (per 1000 births)   float64           0\n",
       "GDP ($ per capita)                   float64           0\n",
       "Literacy (%)                         float64           0\n",
       "Phones (per 1000)                    float64           1\n",
       "Arable (%)                           float64           0\n",
       "Crops (%)                            float64           0\n",
       "Other (%)                            float64           0\n",
       "Climate                              float64          10\n",
       "Birthrate                            float64           1\n",
       "Deathrate                            float64           1\n",
       "Agriculture                          float64           0\n",
       "Industry                             float64           0\n",
       "Service                              float64           0\n",
       "Country Code                          object           0\n",
       "Indicator Name                        object           0\n",
       "2017                                 float64           0"
      ]
     },
     "execution_count": 9,
     "metadata": {},
     "output_type": "execute_result"
    }
   ],
   "source": [
    "info_table = pd.DataFrame(index=df_copy.columns)\n",
    "info_table ['data_type'] = df_copy.dtypes\n",
    "info_table ['null_count'] = df_copy.isnull().sum()\n",
    "info_table"
   ]
  },
  {
   "cell_type": "markdown",
   "metadata": {
    "id": "UL4cJMzAVWXt"
   },
   "source": [
    "Dealing with NA values"
   ]
  },
  {
   "cell_type": "code",
   "execution_count": 10,
   "metadata": {
    "id": "NsbDgVy27ZER",
    "scrolled": true
   },
   "outputs": [
    {
     "name": "stderr",
     "output_type": "stream",
     "text": [
      "/Users/amineboulouma/opt/anaconda3/lib/python3.8/site-packages/pandas/core/indexing.py:670: SettingWithCopyWarning: \n",
      "A value is trying to be set on a copy of a slice from a DataFrame\n",
      "\n",
      "See the caveats in the documentation: https://pandas.pydata.org/pandas-docs/stable/user_guide/indexing.html#returning-a-view-versus-a-copy\n",
      "  iloc._setitem_with_indexer(indexer, value)\n",
      "<ipython-input-10-606045d137b9>:9: SettingWithCopyWarning: \n",
      "A value is trying to be set on a copy of a slice from a DataFrame\n",
      "\n",
      "See the caveats in the documentation: https://pandas.pydata.org/pandas-docs/stable/user_guide/indexing.html#returning-a-view-versus-a-copy\n",
      "  df_copy[col].loc[(df_copy[col].isnull())&(df_copy['Region']==region)] = guess_values[region]\n"
     ]
    }
   ],
   "source": [
    "for col in df_copy.columns.values:\n",
    "    if df_copy[col].isnull().sum() == 0:\n",
    "        continue\n",
    "    if col == 'Climate':\n",
    "        guess_values =df_copy.groupby('Region')['Climate'].apply(lambda x: x.mode().max())\n",
    "    else:\n",
    "        guess_values = df_copy.groupby('Region')[col].median()\n",
    "    for region in df_copy['Region'].unique():\n",
    "        df_copy[col].loc[(df_copy[col].isnull())&(df_copy['Region']==region)] = guess_values[region]"
   ]
  },
  {
   "cell_type": "code",
   "execution_count": 11,
   "metadata": {
    "colab": {
     "base_uri": "https://localhost:8080/",
     "height": 531
    },
    "id": "dwq4U1V__LQk",
    "outputId": "ca19491a-9564-45b5-ecb8-bf2a70eca65c"
   },
   "outputs": [
    {
     "data": {
      "text/html": [
       "<div>\n",
       "<style scoped>\n",
       "    .dataframe tbody tr th:only-of-type {\n",
       "        vertical-align: middle;\n",
       "    }\n",
       "\n",
       "    .dataframe tbody tr th {\n",
       "        vertical-align: top;\n",
       "    }\n",
       "\n",
       "    .dataframe thead th {\n",
       "        text-align: right;\n",
       "    }\n",
       "</style>\n",
       "<table border=\"1\" class=\"dataframe\">\n",
       "  <thead>\n",
       "    <tr style=\"text-align: right;\">\n",
       "      <th></th>\n",
       "      <th>Region</th>\n",
       "      <th>Population</th>\n",
       "      <th>Area (sq. mi.)</th>\n",
       "      <th>Pop. Density (per sq. mi.)</th>\n",
       "      <th>Coastline (coast/area ratio)</th>\n",
       "      <th>Net migration</th>\n",
       "      <th>Infant mortality (per 1000 births)</th>\n",
       "      <th>GDP ($ per capita)</th>\n",
       "      <th>Literacy (%)</th>\n",
       "      <th>Phones (per 1000)</th>\n",
       "      <th>...</th>\n",
       "      <th>Other (%)</th>\n",
       "      <th>Climate</th>\n",
       "      <th>Birthrate</th>\n",
       "      <th>Deathrate</th>\n",
       "      <th>Agriculture</th>\n",
       "      <th>Industry</th>\n",
       "      <th>Service</th>\n",
       "      <th>Country Code</th>\n",
       "      <th>Indicator Name</th>\n",
       "      <th>2017</th>\n",
       "    </tr>\n",
       "  </thead>\n",
       "  <tbody>\n",
       "    <tr>\n",
       "      <th>count</th>\n",
       "      <td>59</td>\n",
       "      <td>5.900000e+01</td>\n",
       "      <td>5.900000e+01</td>\n",
       "      <td>59.000000</td>\n",
       "      <td>59.000000</td>\n",
       "      <td>59.000000</td>\n",
       "      <td>59.000000</td>\n",
       "      <td>59.00000</td>\n",
       "      <td>59.000000</td>\n",
       "      <td>59.000000</td>\n",
       "      <td>...</td>\n",
       "      <td>59.000000</td>\n",
       "      <td>58.000000</td>\n",
       "      <td>59.000000</td>\n",
       "      <td>59.000000</td>\n",
       "      <td>59.000000</td>\n",
       "      <td>59.000000</td>\n",
       "      <td>59.000000</td>\n",
       "      <td>59</td>\n",
       "      <td>59</td>\n",
       "      <td>59.000000</td>\n",
       "    </tr>\n",
       "    <tr>\n",
       "      <th>unique</th>\n",
       "      <td>9</td>\n",
       "      <td>NaN</td>\n",
       "      <td>NaN</td>\n",
       "      <td>NaN</td>\n",
       "      <td>NaN</td>\n",
       "      <td>NaN</td>\n",
       "      <td>NaN</td>\n",
       "      <td>NaN</td>\n",
       "      <td>NaN</td>\n",
       "      <td>NaN</td>\n",
       "      <td>...</td>\n",
       "      <td>NaN</td>\n",
       "      <td>NaN</td>\n",
       "      <td>NaN</td>\n",
       "      <td>NaN</td>\n",
       "      <td>NaN</td>\n",
       "      <td>NaN</td>\n",
       "      <td>NaN</td>\n",
       "      <td>59</td>\n",
       "      <td>1</td>\n",
       "      <td>NaN</td>\n",
       "    </tr>\n",
       "    <tr>\n",
       "      <th>top</th>\n",
       "      <td>WESTERN EUROPE</td>\n",
       "      <td>NaN</td>\n",
       "      <td>NaN</td>\n",
       "      <td>NaN</td>\n",
       "      <td>NaN</td>\n",
       "      <td>NaN</td>\n",
       "      <td>NaN</td>\n",
       "      <td>NaN</td>\n",
       "      <td>NaN</td>\n",
       "      <td>NaN</td>\n",
       "      <td>...</td>\n",
       "      <td>NaN</td>\n",
       "      <td>NaN</td>\n",
       "      <td>NaN</td>\n",
       "      <td>NaN</td>\n",
       "      <td>NaN</td>\n",
       "      <td>NaN</td>\n",
       "      <td>NaN</td>\n",
       "      <td>ARG</td>\n",
       "      <td>Poverty headcount ratio at $1.90 a day (2011 P...</td>\n",
       "      <td>NaN</td>\n",
       "    </tr>\n",
       "    <tr>\n",
       "      <th>freq</th>\n",
       "      <td>15</td>\n",
       "      <td>NaN</td>\n",
       "      <td>NaN</td>\n",
       "      <td>NaN</td>\n",
       "      <td>NaN</td>\n",
       "      <td>NaN</td>\n",
       "      <td>NaN</td>\n",
       "      <td>NaN</td>\n",
       "      <td>NaN</td>\n",
       "      <td>NaN</td>\n",
       "      <td>...</td>\n",
       "      <td>NaN</td>\n",
       "      <td>NaN</td>\n",
       "      <td>NaN</td>\n",
       "      <td>NaN</td>\n",
       "      <td>NaN</td>\n",
       "      <td>NaN</td>\n",
       "      <td>NaN</td>\n",
       "      <td>1</td>\n",
       "      <td>59</td>\n",
       "      <td>NaN</td>\n",
       "    </tr>\n",
       "    <tr>\n",
       "      <th>mean</th>\n",
       "      <td>NaN</td>\n",
       "      <td>2.200928e+07</td>\n",
       "      <td>6.685804e+05</td>\n",
       "      <td>116.369492</td>\n",
       "      <td>2.808983</td>\n",
       "      <td>-0.096441</td>\n",
       "      <td>22.394915</td>\n",
       "      <td>12967.79661</td>\n",
       "      <td>92.850847</td>\n",
       "      <td>279.281356</td>\n",
       "      <td>...</td>\n",
       "      <td>77.117119</td>\n",
       "      <td>2.724138</td>\n",
       "      <td>15.872966</td>\n",
       "      <td>9.882797</td>\n",
       "      <td>0.093220</td>\n",
       "      <td>0.307627</td>\n",
       "      <td>0.600000</td>\n",
       "      <td>NaN</td>\n",
       "      <td>NaN</td>\n",
       "      <td>3.571186</td>\n",
       "    </tr>\n",
       "    <tr>\n",
       "      <th>std</th>\n",
       "      <td>NaN</td>\n",
       "      <td>4.120738e+07</td>\n",
       "      <td>1.728296e+06</td>\n",
       "      <td>184.722701</td>\n",
       "      <td>8.539927</td>\n",
       "      <td>2.782999</td>\n",
       "      <td>24.779355</td>\n",
       "      <td>11425.56783</td>\n",
       "      <td>10.459501</td>\n",
       "      <td>184.896685</td>\n",
       "      <td>...</td>\n",
       "      <td>17.063355</td>\n",
       "      <td>0.663407</td>\n",
       "      <td>8.040665</td>\n",
       "      <td>4.322970</td>\n",
       "      <td>0.079404</td>\n",
       "      <td>0.084819</td>\n",
       "      <td>0.112817</td>\n",
       "      <td>NaN</td>\n",
       "      <td>NaN</td>\n",
       "      <td>8.731119</td>\n",
       "    </tr>\n",
       "    <tr>\n",
       "      <th>min</th>\n",
       "      <td>NaN</td>\n",
       "      <td>4.002140e+05</td>\n",
       "      <td>3.160000e+02</td>\n",
       "      <td>3.300000</td>\n",
       "      <td>0.000000</td>\n",
       "      <td>-8.580000</td>\n",
       "      <td>2.770000</td>\n",
       "      <td>600.00000</td>\n",
       "      <td>42.200000</td>\n",
       "      <td>4.000000</td>\n",
       "      <td>...</td>\n",
       "      <td>33.910000</td>\n",
       "      <td>1.000000</td>\n",
       "      <td>8.720000</td>\n",
       "      <td>4.230000</td>\n",
       "      <td>0.010000</td>\n",
       "      <td>0.130000</td>\n",
       "      <td>0.350000</td>\n",
       "      <td>NaN</td>\n",
       "      <td>NaN</td>\n",
       "      <td>0.000000</td>\n",
       "    </tr>\n",
       "    <tr>\n",
       "      <th>25%</th>\n",
       "      <td>NaN</td>\n",
       "      <td>3.583780e+06</td>\n",
       "      <td>4.416000e+04</td>\n",
       "      <td>30.300000</td>\n",
       "      <td>0.045000</td>\n",
       "      <td>-0.980000</td>\n",
       "      <td>5.045000</td>\n",
       "      <td>4750.00000</td>\n",
       "      <td>90.800000</td>\n",
       "      <td>131.750000</td>\n",
       "      <td>...</td>\n",
       "      <td>64.290000</td>\n",
       "      <td>2.000000</td>\n",
       "      <td>10.050000</td>\n",
       "      <td>6.950000</td>\n",
       "      <td>0.035000</td>\n",
       "      <td>0.255000</td>\n",
       "      <td>0.550000</td>\n",
       "      <td>NaN</td>\n",
       "      <td>NaN</td>\n",
       "      <td>0.150000</td>\n",
       "    </tr>\n",
       "    <tr>\n",
       "      <th>50%</th>\n",
       "      <td>NaN</td>\n",
       "      <td>8.989046e+06</td>\n",
       "      <td>1.109100e+05</td>\n",
       "      <td>79.500000</td>\n",
       "      <td>0.440000</td>\n",
       "      <td>0.000000</td>\n",
       "      <td>13.370000</td>\n",
       "      <td>9100.00000</td>\n",
       "      <td>97.600000</td>\n",
       "      <td>269.500000</td>\n",
       "      <td>...</td>\n",
       "      <td>81.450000</td>\n",
       "      <td>3.000000</td>\n",
       "      <td>11.990000</td>\n",
       "      <td>9.420000</td>\n",
       "      <td>0.070000</td>\n",
       "      <td>0.300000</td>\n",
       "      <td>0.600000</td>\n",
       "      <td>NaN</td>\n",
       "      <td>NaN</td>\n",
       "      <td>0.700000</td>\n",
       "    </tr>\n",
       "    <tr>\n",
       "      <th>75%</th>\n",
       "      <td>NaN</td>\n",
       "      <td>1.939751e+07</td>\n",
       "      <td>4.773730e+05</td>\n",
       "      <td>123.950000</td>\n",
       "      <td>1.700000</td>\n",
       "      <td>1.175000</td>\n",
       "      <td>27.820000</td>\n",
       "      <td>19100.00000</td>\n",
       "      <td>99.000000</td>\n",
       "      <td>413.250000</td>\n",
       "      <td>...</td>\n",
       "      <td>92.060000</td>\n",
       "      <td>3.000000</td>\n",
       "      <td>20.410000</td>\n",
       "      <td>11.257500</td>\n",
       "      <td>0.130000</td>\n",
       "      <td>0.345000</td>\n",
       "      <td>0.675000</td>\n",
       "      <td>NaN</td>\n",
       "      <td>NaN</td>\n",
       "      <td>2.800000</td>\n",
       "    </tr>\n",
       "    <tr>\n",
       "      <th>max</th>\n",
       "      <td>NaN</td>\n",
       "      <td>2.454527e+08</td>\n",
       "      <td>9.984670e+06</td>\n",
       "      <td>1266.500000</td>\n",
       "      <td>62.280000</td>\n",
       "      <td>8.970000</td>\n",
       "      <td>104.130000</td>\n",
       "      <td>55100.00000</td>\n",
       "      <td>100.000000</td>\n",
       "      <td>715.000000</td>\n",
       "      <td>...</td>\n",
       "      <td>99.960000</td>\n",
       "      <td>4.000000</td>\n",
       "      <td>39.530000</td>\n",
       "      <td>28.710000</td>\n",
       "      <td>0.430000</td>\n",
       "      <td>0.590000</td>\n",
       "      <td>0.860000</td>\n",
       "      <td>NaN</td>\n",
       "      <td>NaN</td>\n",
       "      <td>49.400000</td>\n",
       "    </tr>\n",
       "  </tbody>\n",
       "</table>\n",
       "<p>11 rows × 22 columns</p>\n",
       "</div>"
      ],
      "text/plain": [
       "                                     Region    Population  Area (sq. mi.)  \\\n",
       "count                                    59  5.900000e+01    5.900000e+01   \n",
       "unique                                    9           NaN             NaN   \n",
       "top     WESTERN EUROPE                                NaN             NaN   \n",
       "freq                                     15           NaN             NaN   \n",
       "mean                                    NaN  2.200928e+07    6.685804e+05   \n",
       "std                                     NaN  4.120738e+07    1.728296e+06   \n",
       "min                                     NaN  4.002140e+05    3.160000e+02   \n",
       "25%                                     NaN  3.583780e+06    4.416000e+04   \n",
       "50%                                     NaN  8.989046e+06    1.109100e+05   \n",
       "75%                                     NaN  1.939751e+07    4.773730e+05   \n",
       "max                                     NaN  2.454527e+08    9.984670e+06   \n",
       "\n",
       "        Pop. Density (per sq. mi.)  Coastline (coast/area ratio)  \\\n",
       "count                    59.000000                     59.000000   \n",
       "unique                         NaN                           NaN   \n",
       "top                            NaN                           NaN   \n",
       "freq                           NaN                           NaN   \n",
       "mean                    116.369492                      2.808983   \n",
       "std                     184.722701                      8.539927   \n",
       "min                       3.300000                      0.000000   \n",
       "25%                      30.300000                      0.045000   \n",
       "50%                      79.500000                      0.440000   \n",
       "75%                     123.950000                      1.700000   \n",
       "max                    1266.500000                     62.280000   \n",
       "\n",
       "        Net migration  Infant mortality (per 1000 births)  GDP ($ per capita)  \\\n",
       "count       59.000000                           59.000000            59.00000   \n",
       "unique            NaN                                 NaN                 NaN   \n",
       "top               NaN                                 NaN                 NaN   \n",
       "freq              NaN                                 NaN                 NaN   \n",
       "mean        -0.096441                           22.394915         12967.79661   \n",
       "std          2.782999                           24.779355         11425.56783   \n",
       "min         -8.580000                            2.770000           600.00000   \n",
       "25%         -0.980000                            5.045000          4750.00000   \n",
       "50%          0.000000                           13.370000          9100.00000   \n",
       "75%          1.175000                           27.820000         19100.00000   \n",
       "max          8.970000                          104.130000         55100.00000   \n",
       "\n",
       "        Literacy (%)  Phones (per 1000)  ...  Other (%)    Climate  Birthrate  \\\n",
       "count      59.000000          59.000000  ...  59.000000  58.000000  59.000000   \n",
       "unique           NaN                NaN  ...        NaN        NaN        NaN   \n",
       "top              NaN                NaN  ...        NaN        NaN        NaN   \n",
       "freq             NaN                NaN  ...        NaN        NaN        NaN   \n",
       "mean       92.850847         279.281356  ...  77.117119   2.724138  15.872966   \n",
       "std        10.459501         184.896685  ...  17.063355   0.663407   8.040665   \n",
       "min        42.200000           4.000000  ...  33.910000   1.000000   8.720000   \n",
       "25%        90.800000         131.750000  ...  64.290000   2.000000  10.050000   \n",
       "50%        97.600000         269.500000  ...  81.450000   3.000000  11.990000   \n",
       "75%        99.000000         413.250000  ...  92.060000   3.000000  20.410000   \n",
       "max       100.000000         715.000000  ...  99.960000   4.000000  39.530000   \n",
       "\n",
       "        Deathrate  Agriculture   Industry    Service  Country Code  \\\n",
       "count   59.000000    59.000000  59.000000  59.000000            59   \n",
       "unique        NaN          NaN        NaN        NaN            59   \n",
       "top           NaN          NaN        NaN        NaN           ARG   \n",
       "freq          NaN          NaN        NaN        NaN             1   \n",
       "mean     9.882797     0.093220   0.307627   0.600000           NaN   \n",
       "std      4.322970     0.079404   0.084819   0.112817           NaN   \n",
       "min      4.230000     0.010000   0.130000   0.350000           NaN   \n",
       "25%      6.950000     0.035000   0.255000   0.550000           NaN   \n",
       "50%      9.420000     0.070000   0.300000   0.600000           NaN   \n",
       "75%     11.257500     0.130000   0.345000   0.675000           NaN   \n",
       "max     28.710000     0.430000   0.590000   0.860000           NaN   \n",
       "\n",
       "                                           Indicator Name       2017  \n",
       "count                                                  59  59.000000  \n",
       "unique                                                  1        NaN  \n",
       "top     Poverty headcount ratio at $1.90 a day (2011 P...        NaN  \n",
       "freq                                                   59        NaN  \n",
       "mean                                                  NaN   3.571186  \n",
       "std                                                   NaN   8.731119  \n",
       "min                                                   NaN   0.000000  \n",
       "25%                                                   NaN   0.150000  \n",
       "50%                                                   NaN   0.700000  \n",
       "75%                                                   NaN   2.800000  \n",
       "max                                                   NaN  49.400000  \n",
       "\n",
       "[11 rows x 22 columns]"
      ]
     },
     "execution_count": 11,
     "metadata": {},
     "output_type": "execute_result"
    }
   ],
   "source": [
    "df_copy.describe(include='all')"
   ]
  },
  {
   "cell_type": "code",
   "execution_count": 12,
   "metadata": {
    "colab": {
     "base_uri": "https://localhost:8080/",
     "height": 859
    },
    "id": "fEprrau3agMq",
    "outputId": "2a8bc81f-52d4-4d3b-ccb2-e3f09f8eb0d2"
   },
   "outputs": [
    {
     "data": {
      "image/png": "[encoded data removed]",
      "text/plain": [
       "<Figure size 1152x864 with 2 Axes>"
      ]
     },
     "metadata": {
      "needs_background": "light"
     },
     "output_type": "display_data"
    }
   ],
   "source": [
    "plt.figure(figsize=(16,12))\n",
    "sns.heatmap(data=df_copy.iloc[:,2:].corr(),annot=True,fmt='.2f', cmap=\"cool\")\n",
    "plt.show()"
   ]
  },
  {
   "cell_type": "code",
   "execution_count": 14,
   "metadata": {
    "colab": {
     "base_uri": "https://localhost:8080/",
     "height": 730
    },
    "id": "_8hCsT3tgBy1",
    "outputId": "892536fe-c107-4303-ea63-ac8dc6e61f1b"
   },
   "outputs": [
    {
     "name": "stderr",
     "output_type": "stream",
     "text": [
      "<ipython-input-14-e38f39310a25>:2: SettingWithCopyWarning: \n",
      "A value is trying to be set on a copy of a slice from a DataFrame.\n",
      "Try using .loc[row_indexer,col_indexer] = value instead\n",
      "\n",
      "See the caveats in the documentation: https://pandas.pydata.org/pandas-docs/stable/user_guide/indexing.html#returning-a-view-versus-a-copy\n",
      "  df_copy['Country']=df_copy.index\n"
     ]
    },
    {
     "data": {
      "image/png": "[encoded data removed]",
      "text/plain": [
       "<Figure size 1152x432 with 1 Axes>"
      ]
     },
     "metadata": {
      "needs_background": "light"
     },
     "output_type": "display_data"
    }
   ],
   "source": [
    "fig, ax = plt.subplots(figsize=(16,6))\n",
    "df_copy['Country']=df_copy.index\n",
    "top_lower_gdp_countries = df_copy.sort_values('GDP ($ per capita)',ascending=True).head(50)\n",
    "mean = pd.DataFrame({'Country':['World mean'], 'GDP ($ per capita)':[df_copy['GDP ($ per capita)'].mean()]})\n",
    "gdps = pd.concat([top_lower_gdp_countries[['Country','GDP ($ per capita)']],mean],ignore_index=True)\n",
    "sns.barplot(x='Country', y='GDP ($ per capita)', data=gdps, palette='Set1')\n",
    "ax.set_xlabel(ax.get_xlabel(), labelpad=15)\n",
    "ax.set_ylabel(ax.get_ylabel(), labelpad=30)\n",
    "ax.xaxis.label.set_fontsize(16)\n",
    "ax.yaxis.label.set_fontsize(16)\n",
    "plt.xticks(rotation=90)\n",
    "plt.show()"
   ]
  },
  {
   "cell_type": "markdown",
   "metadata": {
    "id": "y0hV2LuxZg_S"
   },
   "source": [
    "### modeling"
   ]
  },
  {
   "cell_type": "code",
   "execution_count": 15,
   "metadata": {
    "colab": {
     "base_uri": "https://localhost:8080/",
     "height": 386
    },
    "id": "AWPUmZizUQTj",
    "outputId": "0b91e555-7613-4380-c247-603122e7c3b6"
   },
   "outputs": [
    {
     "name": "stdout",
     "output_type": "stream",
     "text": [
      "Index(['Region', 'Country Code', 'Indicator Name', 'Country'], dtype='object')\n",
      "\n",
      " New columns Index(['Region', 'Country Code', 'Indicator Name', 'Country'], dtype='object')\n"
     ]
    }
   ],
   "source": [
    "labelEncoder = preprocessing.LabelEncoder()\n",
    "columns = df_copy.select_dtypes(include=['object', 'category']).columns\n",
    "print(columns)\n",
    "\n",
    "# Drop the values we do not need\n",
    "df_copy.drop('Indicator Name', 1)\n",
    "df_copy.drop('Country Code', 1)\n",
    "df_copy.drop('Area (sq. mi.)',1)\n",
    "df_copy.drop('Pop. Density (per sq. mi.)',1)\n",
    "df_copy.drop('Coastline (coast/area ratio)',1)\n",
    "df_copy.drop('Net migration',1)\n",
    "\t\t\n",
    "\n",
    "print(\"\\n New columns\", df_copy.select_dtypes(include=['object', 'category']).columns)"
   ]
  },
  {
   "cell_type": "code",
   "execution_count": 16,
   "metadata": {
    "colab": {
     "base_uri": "https://localhost:8080/",
     "height": 224
    },
    "id": "f3ArzA-8i2OD",
    "outputId": "6f380c8c-856e-4055-c044-9571b4dab12f"
   },
   "outputs": [
    {
     "data": {
      "text/html": [
       "<div>\n",
       "<style scoped>\n",
       "    .dataframe tbody tr th:only-of-type {\n",
       "        vertical-align: middle;\n",
       "    }\n",
       "\n",
       "    .dataframe tbody tr th {\n",
       "        vertical-align: top;\n",
       "    }\n",
       "\n",
       "    .dataframe thead th {\n",
       "        text-align: right;\n",
       "    }\n",
       "</style>\n",
       "<table border=\"1\" class=\"dataframe\">\n",
       "  <thead>\n",
       "    <tr style=\"text-align: right;\">\n",
       "      <th></th>\n",
       "      <th>Region</th>\n",
       "      <th>Population</th>\n",
       "      <th>Area (sq. mi.)</th>\n",
       "      <th>Pop. Density (per sq. mi.)</th>\n",
       "      <th>Coastline (coast/area ratio)</th>\n",
       "      <th>Net migration</th>\n",
       "      <th>Infant mortality (per 1000 births)</th>\n",
       "      <th>GDP ($ per capita)</th>\n",
       "      <th>Literacy (%)</th>\n",
       "      <th>Phones (per 1000)</th>\n",
       "      <th>...</th>\n",
       "      <th>Climate</th>\n",
       "      <th>Birthrate</th>\n",
       "      <th>Deathrate</th>\n",
       "      <th>Agriculture</th>\n",
       "      <th>Industry</th>\n",
       "      <th>Service</th>\n",
       "      <th>Country Code</th>\n",
       "      <th>Indicator Name</th>\n",
       "      <th>2017</th>\n",
       "      <th>Country</th>\n",
       "    </tr>\n",
       "    <tr>\n",
       "      <th>Country</th>\n",
       "      <th></th>\n",
       "      <th></th>\n",
       "      <th></th>\n",
       "      <th></th>\n",
       "      <th></th>\n",
       "      <th></th>\n",
       "      <th></th>\n",
       "      <th></th>\n",
       "      <th></th>\n",
       "      <th></th>\n",
       "      <th></th>\n",
       "      <th></th>\n",
       "      <th></th>\n",
       "      <th></th>\n",
       "      <th></th>\n",
       "      <th></th>\n",
       "      <th></th>\n",
       "      <th></th>\n",
       "      <th></th>\n",
       "      <th></th>\n",
       "      <th></th>\n",
       "    </tr>\n",
       "  </thead>\n",
       "  <tbody>\n",
       "    <tr>\n",
       "      <th>Albania</th>\n",
       "      <td>EASTERN EUROPE</td>\n",
       "      <td>3581655</td>\n",
       "      <td>28748.0</td>\n",
       "      <td>124.6</td>\n",
       "      <td>1.26</td>\n",
       "      <td>-4.93</td>\n",
       "      <td>21.52</td>\n",
       "      <td>4500.0</td>\n",
       "      <td>86.5</td>\n",
       "      <td>71.2</td>\n",
       "      <td>...</td>\n",
       "      <td>3.0</td>\n",
       "      <td>15.11</td>\n",
       "      <td>5.22</td>\n",
       "      <td>0.23</td>\n",
       "      <td>0.19</td>\n",
       "      <td>0.58</td>\n",
       "      <td>ALB</td>\n",
       "      <td>Poverty headcount ratio at $1.90 a day (2011 P...</td>\n",
       "      <td>1.3</td>\n",
       "      <td>Albania</td>\n",
       "    </tr>\n",
       "    <tr>\n",
       "      <th>Argentina</th>\n",
       "      <td>LATIN AMER. &amp; CARIB</td>\n",
       "      <td>39921833</td>\n",
       "      <td>2766890.0</td>\n",
       "      <td>14.4</td>\n",
       "      <td>0.18</td>\n",
       "      <td>0.61</td>\n",
       "      <td>15.18</td>\n",
       "      <td>11200.0</td>\n",
       "      <td>97.1</td>\n",
       "      <td>220.4</td>\n",
       "      <td>...</td>\n",
       "      <td>3.0</td>\n",
       "      <td>16.73</td>\n",
       "      <td>7.55</td>\n",
       "      <td>0.10</td>\n",
       "      <td>0.36</td>\n",
       "      <td>0.55</td>\n",
       "      <td>ARG</td>\n",
       "      <td>Poverty headcount ratio at $1.90 a day (2011 P...</td>\n",
       "      <td>0.8</td>\n",
       "      <td>Argentina</td>\n",
       "    </tr>\n",
       "  </tbody>\n",
       "</table>\n",
       "<p>2 rows × 23 columns</p>\n",
       "</div>"
      ],
      "text/plain": [
       "                                        Region  Population  Area (sq. mi.)  \\\n",
       "Country                                                                      \n",
       "Albania    EASTERN EUROPE                          3581655         28748.0   \n",
       "Argentina              LATIN AMER. & CARIB        39921833       2766890.0   \n",
       "\n",
       "           Pop. Density (per sq. mi.)  Coastline (coast/area ratio)  \\\n",
       "Country                                                               \n",
       "Albania                         124.6                          1.26   \n",
       "Argentina                        14.4                          0.18   \n",
       "\n",
       "           Net migration  Infant mortality (per 1000 births)  \\\n",
       "Country                                                        \n",
       "Albania            -4.93                               21.52   \n",
       "Argentina           0.61                               15.18   \n",
       "\n",
       "           GDP ($ per capita)  Literacy (%)  Phones (per 1000)  ...  Climate  \\\n",
       "Country                                                         ...            \n",
       "Albania                4500.0          86.5               71.2  ...      3.0   \n",
       "Argentina             11200.0          97.1              220.4  ...      3.0   \n",
       "\n",
       "           Birthrate  Deathrate  Agriculture  Industry  Service  Country Code  \\\n",
       "Country                                                                         \n",
       "Albania        15.11       5.22         0.23      0.19     0.58           ALB   \n",
       "Argentina      16.73       7.55         0.10      0.36     0.55           ARG   \n",
       "\n",
       "                                              Indicator Name  2017    Country  \n",
       "Country                                                                        \n",
       "Albania    Poverty headcount ratio at $1.90 a day (2011 P...   1.3    Albania  \n",
       "Argentina  Poverty headcount ratio at $1.90 a day (2011 P...   0.8  Argentina  \n",
       "\n",
       "[2 rows x 23 columns]"
      ]
     },
     "execution_count": 16,
     "metadata": {},
     "output_type": "execute_result"
    }
   ],
   "source": [
    "df_copy.head(2)\n",
    "\t\t"
   ]
  },
  {
   "cell_type": "markdown",
   "metadata": {
    "id": "m6hWAXMFa_lB"
   },
   "source": []
  },
  {
   "cell_type": "code",
   "execution_count": 17,
   "metadata": {
    "colab": {
     "base_uri": "https://localhost:8080/",
     "height": 552
    },
    "id": "2ptgn6caag-k",
    "outputId": "e6a6823e-f75b-4f01-838e-210b0b2a3894"
   },
   "outputs": [
    {
     "name": "stderr",
     "output_type": "stream",
     "text": [
      "<ipython-input-17-27290fc7829c>:5: SettingWithCopyWarning: \n",
      "A value is trying to be set on a copy of a slice from a DataFrame.\n",
      "Try using .loc[row_indexer,col_indexer] = value instead\n",
      "\n",
      "See the caveats in the documentation: https://pandas.pydata.org/pandas-docs/stable/user_guide/indexing.html#returning-a-view-versus-a-copy\n",
      "  df_copy['region_cat'] = region_cat\n"
     ]
    },
    {
     "data": {
      "text/html": [
       "<div>\n",
       "<style scoped>\n",
       "    .dataframe tbody tr th:only-of-type {\n",
       "        vertical-align: middle;\n",
       "    }\n",
       "\n",
       "    .dataframe tbody tr th {\n",
       "        vertical-align: top;\n",
       "    }\n",
       "\n",
       "    .dataframe thead th {\n",
       "        text-align: right;\n",
       "    }\n",
       "</style>\n",
       "<table border=\"1\" class=\"dataframe\">\n",
       "  <thead>\n",
       "    <tr style=\"text-align: right;\">\n",
       "      <th></th>\n",
       "      <th>Population</th>\n",
       "      <th>Area (sq. mi.)</th>\n",
       "      <th>Pop. Density (per sq. mi.)</th>\n",
       "      <th>Coastline (coast/area ratio)</th>\n",
       "      <th>Net migration</th>\n",
       "      <th>Infant mortality (per 1000 births)</th>\n",
       "      <th>GDP ($ per capita)</th>\n",
       "      <th>Literacy (%)</th>\n",
       "      <th>Phones (per 1000)</th>\n",
       "      <th>Arable (%)</th>\n",
       "      <th>Crops (%)</th>\n",
       "      <th>Other (%)</th>\n",
       "      <th>Climate</th>\n",
       "      <th>Birthrate</th>\n",
       "      <th>Deathrate</th>\n",
       "      <th>Agriculture</th>\n",
       "      <th>Industry</th>\n",
       "      <th>Service</th>\n",
       "      <th>2017</th>\n",
       "      <th>region_cat</th>\n",
       "    </tr>\n",
       "    <tr>\n",
       "      <th>Country</th>\n",
       "      <th></th>\n",
       "      <th></th>\n",
       "      <th></th>\n",
       "      <th></th>\n",
       "      <th></th>\n",
       "      <th></th>\n",
       "      <th></th>\n",
       "      <th></th>\n",
       "      <th></th>\n",
       "      <th></th>\n",
       "      <th></th>\n",
       "      <th></th>\n",
       "      <th></th>\n",
       "      <th></th>\n",
       "      <th></th>\n",
       "      <th></th>\n",
       "      <th></th>\n",
       "      <th></th>\n",
       "      <th></th>\n",
       "      <th></th>\n",
       "    </tr>\n",
       "  </thead>\n",
       "  <tbody>\n",
       "    <tr>\n",
       "      <th>Albania</th>\n",
       "      <td>3581655</td>\n",
       "      <td>28748.0</td>\n",
       "      <td>124.6</td>\n",
       "      <td>1.26</td>\n",
       "      <td>-4.93</td>\n",
       "      <td>21.52</td>\n",
       "      <td>4500.0</td>\n",
       "      <td>86.5</td>\n",
       "      <td>71.2</td>\n",
       "      <td>21.09</td>\n",
       "      <td>4.42</td>\n",
       "      <td>74.49</td>\n",
       "      <td>3.0</td>\n",
       "      <td>15.11</td>\n",
       "      <td>5.22</td>\n",
       "      <td>0.23</td>\n",
       "      <td>0.19</td>\n",
       "      <td>0.58</td>\n",
       "      <td>1.3</td>\n",
       "      <td>3</td>\n",
       "    </tr>\n",
       "    <tr>\n",
       "      <th>Argentina</th>\n",
       "      <td>39921833</td>\n",
       "      <td>2766890.0</td>\n",
       "      <td>14.4</td>\n",
       "      <td>0.18</td>\n",
       "      <td>0.61</td>\n",
       "      <td>15.18</td>\n",
       "      <td>11200.0</td>\n",
       "      <td>97.1</td>\n",
       "      <td>220.4</td>\n",
       "      <td>12.31</td>\n",
       "      <td>0.48</td>\n",
       "      <td>87.21</td>\n",
       "      <td>3.0</td>\n",
       "      <td>16.73</td>\n",
       "      <td>7.55</td>\n",
       "      <td>0.10</td>\n",
       "      <td>0.36</td>\n",
       "      <td>0.55</td>\n",
       "      <td>0.8</td>\n",
       "      <td>4</td>\n",
       "    </tr>\n",
       "    <tr>\n",
       "      <th>Armenia</th>\n",
       "      <td>2976372</td>\n",
       "      <td>29800.0</td>\n",
       "      <td>99.9</td>\n",
       "      <td>0.00</td>\n",
       "      <td>-6.47</td>\n",
       "      <td>23.28</td>\n",
       "      <td>3500.0</td>\n",
       "      <td>98.6</td>\n",
       "      <td>195.7</td>\n",
       "      <td>17.55</td>\n",
       "      <td>2.30</td>\n",
       "      <td>80.15</td>\n",
       "      <td>4.0</td>\n",
       "      <td>12.07</td>\n",
       "      <td>8.23</td>\n",
       "      <td>0.24</td>\n",
       "      <td>0.34</td>\n",
       "      <td>0.42</td>\n",
       "      <td>0.9</td>\n",
       "      <td>2</td>\n",
       "    </tr>\n",
       "    <tr>\n",
       "      <th>Austria</th>\n",
       "      <td>8192880</td>\n",
       "      <td>83870.0</td>\n",
       "      <td>97.7</td>\n",
       "      <td>0.00</td>\n",
       "      <td>2.00</td>\n",
       "      <td>4.66</td>\n",
       "      <td>30000.0</td>\n",
       "      <td>98.0</td>\n",
       "      <td>452.2</td>\n",
       "      <td>16.91</td>\n",
       "      <td>0.86</td>\n",
       "      <td>82.23</td>\n",
       "      <td>3.0</td>\n",
       "      <td>8.74</td>\n",
       "      <td>9.76</td>\n",
       "      <td>0.02</td>\n",
       "      <td>0.30</td>\n",
       "      <td>0.68</td>\n",
       "      <td>0.3</td>\n",
       "      <td>8</td>\n",
       "    </tr>\n",
       "    <tr>\n",
       "      <th>Belarus</th>\n",
       "      <td>10293011</td>\n",
       "      <td>207600.0</td>\n",
       "      <td>49.6</td>\n",
       "      <td>0.00</td>\n",
       "      <td>2.54</td>\n",
       "      <td>13.37</td>\n",
       "      <td>6100.0</td>\n",
       "      <td>99.6</td>\n",
       "      <td>319.1</td>\n",
       "      <td>29.55</td>\n",
       "      <td>0.60</td>\n",
       "      <td>69.85</td>\n",
       "      <td>4.0</td>\n",
       "      <td>11.16</td>\n",
       "      <td>14.02</td>\n",
       "      <td>0.09</td>\n",
       "      <td>0.32</td>\n",
       "      <td>0.59</td>\n",
       "      <td>0.0</td>\n",
       "      <td>2</td>\n",
       "    </tr>\n",
       "  </tbody>\n",
       "</table>\n",
       "</div>"
      ],
      "text/plain": [
       "           Population  Area (sq. mi.)  Pop. Density (per sq. mi.)  \\\n",
       "Country                                                             \n",
       "Albania       3581655         28748.0                       124.6   \n",
       "Argentina    39921833       2766890.0                        14.4   \n",
       "Armenia       2976372         29800.0                        99.9   \n",
       "Austria       8192880         83870.0                        97.7   \n",
       "Belarus      10293011        207600.0                        49.6   \n",
       "\n",
       "           Coastline (coast/area ratio)  Net migration  \\\n",
       "Country                                                  \n",
       "Albania                            1.26          -4.93   \n",
       "Argentina                          0.18           0.61   \n",
       "Armenia                            0.00          -6.47   \n",
       "Austria                            0.00           2.00   \n",
       "Belarus                            0.00           2.54   \n",
       "\n",
       "           Infant mortality (per 1000 births)  GDP ($ per capita)  \\\n",
       "Country                                                             \n",
       "Albania                                 21.52              4500.0   \n",
       "Argentina                               15.18             11200.0   \n",
       "Armenia                                 23.28              3500.0   \n",
       "Austria                                  4.66             30000.0   \n",
       "Belarus                                 13.37              6100.0   \n",
       "\n",
       "           Literacy (%)  Phones (per 1000)  Arable (%)  Crops (%)  Other (%)  \\\n",
       "Country                                                                        \n",
       "Albania            86.5               71.2       21.09       4.42      74.49   \n",
       "Argentina          97.1              220.4       12.31       0.48      87.21   \n",
       "Armenia            98.6              195.7       17.55       2.30      80.15   \n",
       "Austria            98.0              452.2       16.91       0.86      82.23   \n",
       "Belarus            99.6              319.1       29.55       0.60      69.85   \n",
       "\n",
       "           Climate  Birthrate  Deathrate  Agriculture  Industry  Service  \\\n",
       "Country                                                                    \n",
       "Albania        3.0      15.11       5.22         0.23      0.19     0.58   \n",
       "Argentina      3.0      16.73       7.55         0.10      0.36     0.55   \n",
       "Armenia        4.0      12.07       8.23         0.24      0.34     0.42   \n",
       "Austria        3.0       8.74       9.76         0.02      0.30     0.68   \n",
       "Belarus        4.0      11.16      14.02         0.09      0.32     0.59   \n",
       "\n",
       "           2017  region_cat  \n",
       "Country                      \n",
       "Albania     1.3           3  \n",
       "Argentina   0.8           4  \n",
       "Armenia     0.9           2  \n",
       "Austria     0.3           8  \n",
       "Belarus     0.0           2  "
      ]
     },
     "execution_count": 17,
     "metadata": {},
     "output_type": "execute_result"
    }
   ],
   "source": [
    "# Create categorical columns\n",
    "labelEncoder = preprocessing.LabelEncoder()\n",
    "region_cat = labelEncoder.fit_transform(df_copy['Region'])\n",
    "# Initialize columns\n",
    "df_copy['region_cat'] = region_cat\n",
    "# Dropping the old values\n",
    "old = df_copy.select_dtypes(include=['object', 'category']).columns\n",
    "df_copy = df_copy.drop(old, axis=1)\n",
    "df_copy.head()"
   ]
  },
  {
   "cell_type": "markdown",
   "metadata": {
    "id": "qSSn1jG8LQAX"
   },
   "source": [
    "KNN"
   ]
  },
  {
   "cell_type": "code",
   "execution_count": 18,
   "metadata": {
    "colab": {
     "base_uri": "https://localhost:8080/",
     "height": 369
    },
    "id": "nDbBKMfWbUMQ",
    "outputId": "a67ac798-c588-42b7-adf3-cc863c8e8a1f"
   },
   "outputs": [
    {
     "ename": "ValueError",
     "evalue": "Input contains NaN, infinity or a value too large for dtype('float64').",
     "output_type": "error",
     "traceback": [
      "\u001b[0;31m---------------------------------------\u001b[0m",
      "\u001b[0;31mValueError\u001b[0mTraceback (most recent call last)",
      "\u001b[0;32m<ipython-input-18-9b9252d59598>\u001b[0m in \u001b[0;36m<module>\u001b[0;34m\u001b[0m\n\u001b[1;32m      4\u001b[0m \u001b[0mlabel\u001b[0m \u001b[0;34m=\u001b[0m \u001b[0mdf_copy\u001b[0m\u001b[0;34m[\u001b[0m\u001b[0;34m'2017'\u001b[0m\u001b[0;34m]\u001b[0m\u001b[0;34m\u001b[0m\u001b[0;34m\u001b[0m\u001b[0m\n\u001b[1;32m      5\u001b[0m \u001b[0mx_train\u001b[0m\u001b[0;34m,\u001b[0m\u001b[0mx_test\u001b[0m\u001b[0;34m,\u001b[0m\u001b[0my_train\u001b[0m\u001b[0;34m,\u001b[0m\u001b[0my_test\u001b[0m \u001b[0;34m=\u001b[0m \u001b[0mtrain_test_split\u001b[0m\u001b[0;34m(\u001b[0m\u001b[0mftr\u001b[0m\u001b[0;34m,\u001b[0m\u001b[0mlabel\u001b[0m\u001b[0;34m,\u001b[0m\u001b[0mtest_size\u001b[0m \u001b[0;34m=\u001b[0m \u001b[0;36m0.3\u001b[0m\u001b[0;34m,\u001b[0m \u001b[0mrandom_state\u001b[0m \u001b[0;34m=\u001b[0m \u001b[0;36m42\u001b[0m\u001b[0;34m)\u001b[0m\u001b[0;34m\u001b[0m\u001b[0;34m\u001b[0m\u001b[0m\n\u001b[0;32m----> 6\u001b[0;31m \u001b[0mknn\u001b[0m\u001b[0;34m.\u001b[0m\u001b[0mfit\u001b[0m\u001b[0;34m(\u001b[0m\u001b[0mx_train\u001b[0m\u001b[0;34m,\u001b[0m\u001b[0my_train\u001b[0m\u001b[0;34m)\u001b[0m\u001b[0;34m\u001b[0m\u001b[0;34m\u001b[0m\u001b[0m\n\u001b[0m\u001b[1;32m      7\u001b[0m \u001b[0mprediction\u001b[0m \u001b[0;34m=\u001b[0m \u001b[0mknn\u001b[0m\u001b[0;34m.\u001b[0m\u001b[0mpredict\u001b[0m\u001b[0;34m(\u001b[0m\u001b[0mx_test\u001b[0m\u001b[0;34m)\u001b[0m\u001b[0;34m\u001b[0m\u001b[0;34m\u001b[0m\u001b[0m\n\u001b[1;32m      8\u001b[0m \u001b[0;31m#print('Prediction : {}'.format(prediction))\u001b[0m\u001b[0;34m\u001b[0m\u001b[0;34m\u001b[0m\u001b[0;34m\u001b[0m\u001b[0m\n",
      "\u001b[0;32m~/opt/anaconda3/lib/python3.8/site-packages/sklearn/neighbors/_base.py\u001b[0m in \u001b[0;36mfit\u001b[0;34m(self, X, y)\u001b[0m\n\u001b[1;32m   1129\u001b[0m         \"\"\"\n\u001b[1;32m   1130\u001b[0m         \u001b[0;32mif\u001b[0m \u001b[0;32mnot\u001b[0m \u001b[0misinstance\u001b[0m\u001b[0;34m(\u001b[0m\u001b[0mX\u001b[0m\u001b[0;34m,\u001b[0m \u001b[0;34m(\u001b[0m\u001b[0mKDTree\u001b[0m\u001b[0;34m,\u001b[0m \u001b[0mBallTree\u001b[0m\u001b[0;34m)\u001b[0m\u001b[0;34m)\u001b[0m\u001b[0;34m:\u001b[0m\u001b[0;34m\u001b[0m\u001b[0;34m\u001b[0m\u001b[0m\n\u001b[0;32m-> 1131\u001b[0;31m             X, y = self._validate_data(X, y, accept_sparse=\"csr\",\n\u001b[0m\u001b[1;32m   1132\u001b[0m                                        multi_output=True)\n\u001b[1;32m   1133\u001b[0m \u001b[0;34m\u001b[0m\u001b[0m\n",
      "\u001b[0;32m~/opt/anaconda3/lib/python3.8/site-packages/sklearn/base.py\u001b[0m in \u001b[0;36m_validate_data\u001b[0;34m(self, X, y, reset, validate_separately, **check_params)\u001b[0m\n\u001b[1;32m    430\u001b[0m                 \u001b[0my\u001b[0m \u001b[0;34m=\u001b[0m \u001b[0mcheck_array\u001b[0m\u001b[0;34m(\u001b[0m\u001b[0my\u001b[0m\u001b[0;34m,\u001b[0m \u001b[0;34m**\u001b[0m\u001b[0mcheck_y_params\u001b[0m\u001b[0;34m)\u001b[0m\u001b[0;34m\u001b[0m\u001b[0;34m\u001b[0m\u001b[0m\n\u001b[1;32m    431\u001b[0m             \u001b[0;32melse\u001b[0m\u001b[0;34m:\u001b[0m\u001b[0;34m\u001b[0m\u001b[0;34m\u001b[0m\u001b[0m\n\u001b[0;32m--> 432\u001b[0;31m                 \u001b[0mX\u001b[0m\u001b[0;34m,\u001b[0m \u001b[0my\u001b[0m \u001b[0;34m=\u001b[0m \u001b[0mcheck_X_y\u001b[0m\u001b[0;34m(\u001b[0m\u001b[0mX\u001b[0m\u001b[0;34m,\u001b[0m \u001b[0my\u001b[0m\u001b[0;34m,\u001b[0m \u001b[0;34m**\u001b[0m\u001b[0mcheck_params\u001b[0m\u001b[0;34m)\u001b[0m\u001b[0;34m\u001b[0m\u001b[0;34m\u001b[0m\u001b[0m\n\u001b[0m\u001b[1;32m    433\u001b[0m             \u001b[0mout\u001b[0m \u001b[0;34m=\u001b[0m \u001b[0mX\u001b[0m\u001b[0;34m,\u001b[0m \u001b[0my\u001b[0m\u001b[0;34m\u001b[0m\u001b[0;34m\u001b[0m\u001b[0m\n\u001b[1;32m    434\u001b[0m \u001b[0;34m\u001b[0m\u001b[0m\n",
      "\u001b[0;32m~/opt/anaconda3/lib/python3.8/site-packages/sklearn/utils/validation.py\u001b[0m in \u001b[0;36minner_f\u001b[0;34m(*args, **kwargs)\u001b[0m\n\u001b[1;32m     70\u001b[0m                           FutureWarning)\n\u001b[1;32m     71\u001b[0m         \u001b[0mkwargs\u001b[0m\u001b[0;34m.\u001b[0m\u001b[0mupdate\u001b[0m\u001b[0;34m(\u001b[0m\u001b[0;34m{\u001b[0m\u001b[0mk\u001b[0m\u001b[0;34m:\u001b[0m \u001b[0marg\u001b[0m \u001b[0;32mfor\u001b[0m \u001b[0mk\u001b[0m\u001b[0;34m,\u001b[0m \u001b[0marg\u001b[0m \u001b[0;32min\u001b[0m \u001b[0mzip\u001b[0m\u001b[0;34m(\u001b[0m\u001b[0msig\u001b[0m\u001b[0;34m.\u001b[0m\u001b[0mparameters\u001b[0m\u001b[0;34m,\u001b[0m \u001b[0margs\u001b[0m\u001b[0;34m)\u001b[0m\u001b[0;34m}\u001b[0m\u001b[0;34m)\u001b[0m\u001b[0;34m\u001b[0m\u001b[0;34m\u001b[0m\u001b[0m\n\u001b[0;32m---> 72\u001b[0;31m         \u001b[0;32mreturn\u001b[0m \u001b[0mf\u001b[0m\u001b[0;34m(\u001b[0m\u001b[0;34m**\u001b[0m\u001b[0mkwargs\u001b[0m\u001b[0;34m)\u001b[0m\u001b[0;34m\u001b[0m\u001b[0;34m\u001b[0m\u001b[0m\n\u001b[0m\u001b[1;32m     73\u001b[0m     \u001b[0;32mreturn\u001b[0m \u001b[0minner_f\u001b[0m\u001b[0;34m\u001b[0m\u001b[0;34m\u001b[0m\u001b[0m\n\u001b[1;32m     74\u001b[0m \u001b[0;34m\u001b[0m\u001b[0m\n",
      "\u001b[0;32m~/opt/anaconda3/lib/python3.8/site-packages/sklearn/utils/validation.py\u001b[0m in \u001b[0;36mcheck_X_y\u001b[0;34m(X, y, accept_sparse, accept_large_sparse, dtype, order, copy, force_all_finite, ensure_2d, allow_nd, multi_output, ensure_min_samples, ensure_min_features, y_numeric, estimator)\u001b[0m\n\u001b[1;32m    793\u001b[0m         \u001b[0;32mraise\u001b[0m \u001b[0mValueError\u001b[0m\u001b[0;34m(\u001b[0m\u001b[0;34m\"y cannot be None\"\u001b[0m\u001b[0;34m)\u001b[0m\u001b[0;34m\u001b[0m\u001b[0;34m\u001b[0m\u001b[0m\n\u001b[1;32m    794\u001b[0m \u001b[0;34m\u001b[0m\u001b[0m\n\u001b[0;32m--> 795\u001b[0;31m     X = check_array(X, accept_sparse=accept_sparse,\n\u001b[0m\u001b[1;32m    796\u001b[0m                     \u001b[0maccept_large_sparse\u001b[0m\u001b[0;34m=\u001b[0m\u001b[0maccept_large_sparse\u001b[0m\u001b[0;34m,\u001b[0m\u001b[0;34m\u001b[0m\u001b[0;34m\u001b[0m\u001b[0m\n\u001b[1;32m    797\u001b[0m                     \u001b[0mdtype\u001b[0m\u001b[0;34m=\u001b[0m\u001b[0mdtype\u001b[0m\u001b[0;34m,\u001b[0m \u001b[0morder\u001b[0m\u001b[0;34m=\u001b[0m\u001b[0morder\u001b[0m\u001b[0;34m,\u001b[0m \u001b[0mcopy\u001b[0m\u001b[0;34m=\u001b[0m\u001b[0mcopy\u001b[0m\u001b[0;34m,\u001b[0m\u001b[0;34m\u001b[0m\u001b[0;34m\u001b[0m\u001b[0m\n",
      "\u001b[0;32m~/opt/anaconda3/lib/python3.8/site-packages/sklearn/utils/validation.py\u001b[0m in \u001b[0;36minner_f\u001b[0;34m(*args, **kwargs)\u001b[0m\n\u001b[1;32m     70\u001b[0m                           FutureWarning)\n\u001b[1;32m     71\u001b[0m         \u001b[0mkwargs\u001b[0m\u001b[0;34m.\u001b[0m\u001b[0mupdate\u001b[0m\u001b[0;34m(\u001b[0m\u001b[0;34m{\u001b[0m\u001b[0mk\u001b[0m\u001b[0;34m:\u001b[0m \u001b[0marg\u001b[0m \u001b[0;32mfor\u001b[0m \u001b[0mk\u001b[0m\u001b[0;34m,\u001b[0m \u001b[0marg\u001b[0m \u001b[0;32min\u001b[0m \u001b[0mzip\u001b[0m\u001b[0;34m(\u001b[0m\u001b[0msig\u001b[0m\u001b[0;34m.\u001b[0m\u001b[0mparameters\u001b[0m\u001b[0;34m,\u001b[0m \u001b[0margs\u001b[0m\u001b[0;34m)\u001b[0m\u001b[0;34m}\u001b[0m\u001b[0;34m)\u001b[0m\u001b[0;34m\u001b[0m\u001b[0;34m\u001b[0m\u001b[0m\n\u001b[0;32m---> 72\u001b[0;31m         \u001b[0;32mreturn\u001b[0m \u001b[0mf\u001b[0m\u001b[0;34m(\u001b[0m\u001b[0;34m**\u001b[0m\u001b[0mkwargs\u001b[0m\u001b[0;34m)\u001b[0m\u001b[0;34m\u001b[0m\u001b[0;34m\u001b[0m\u001b[0m\n\u001b[0m\u001b[1;32m     73\u001b[0m     \u001b[0;32mreturn\u001b[0m \u001b[0minner_f\u001b[0m\u001b[0;34m\u001b[0m\u001b[0;34m\u001b[0m\u001b[0m\n\u001b[1;32m     74\u001b[0m \u001b[0;34m\u001b[0m\u001b[0m\n",
      "\u001b[0;32m~/opt/anaconda3/lib/python3.8/site-packages/sklearn/utils/validation.py\u001b[0m in \u001b[0;36mcheck_array\u001b[0;34m(array, accept_sparse, accept_large_sparse, dtype, order, copy, force_all_finite, ensure_2d, allow_nd, ensure_min_samples, ensure_min_features, estimator)\u001b[0m\n\u001b[1;32m    642\u001b[0m \u001b[0;34m\u001b[0m\u001b[0m\n\u001b[1;32m    643\u001b[0m         \u001b[0;32mif\u001b[0m \u001b[0mforce_all_finite\u001b[0m\u001b[0;34m:\u001b[0m\u001b[0;34m\u001b[0m\u001b[0;34m\u001b[0m\u001b[0m\n\u001b[0;32m--> 644\u001b[0;31m             _assert_all_finite(array,\n\u001b[0m\u001b[1;32m    645\u001b[0m                                allow_nan=force_all_finite == 'allow-nan')\n\u001b[1;32m    646\u001b[0m \u001b[0;34m\u001b[0m\u001b[0m\n",
      "\u001b[0;32m~/opt/anaconda3/lib/python3.8/site-packages/sklearn/utils/validation.py\u001b[0m in \u001b[0;36m_assert_all_finite\u001b[0;34m(X, allow_nan, msg_dtype)\u001b[0m\n\u001b[1;32m     94\u001b[0m                 not allow_nan and not np.isfinite(X).all()):\n\u001b[1;32m     95\u001b[0m             \u001b[0mtype_err\u001b[0m \u001b[0;34m=\u001b[0m \u001b[0;34m'infinity'\u001b[0m \u001b[0;32mif\u001b[0m \u001b[0mallow_nan\u001b[0m \u001b[0;32melse\u001b[0m \u001b[0;34m'NaN, infinity'\u001b[0m\u001b[0;34m\u001b[0m\u001b[0;34m\u001b[0m\u001b[0m\n\u001b[0;32m---> 96\u001b[0;31m             raise ValueError(\n\u001b[0m\u001b[1;32m     97\u001b[0m                     \u001b[0mmsg_err\u001b[0m\u001b[0;34m.\u001b[0m\u001b[0mformat\u001b[0m\u001b[0;34m\u001b[0m\u001b[0;34m\u001b[0m\u001b[0m\n\u001b[1;32m     98\u001b[0m                     (type_err,\n",
      "\u001b[0;31mValueError\u001b[0m: Input contains NaN, infinity or a value too large for dtype('float64')."
     ]
    }
   ],
   "source": [
    "from sklearn.neighbors import KNeighborsClassifier\n",
    "knn = KNeighborsClassifier(n_neighbors = 3)\n",
    "ftr = df_copy.drop('2017', 1)\n",
    "label = df_copy['2017']\n",
    "x_train,x_test,y_train,y_test = train_test_split(ftr,label,test_size = 0.3, random_state = 42)\n",
    "knn.fit(x_train,y_train)\n",
    "prediction = knn.predict(x_test)\n",
    "#print('Prediction : {}'.format(prediction))\n",
    "print('With KNN (K=3) accuracy is: ', round( knn.score(x_test,y_test) * 100, 2))"
   ]
  },
  {
   "cell_type": "markdown",
   "metadata": {
    "id": "fxrnsMWcb0kZ"
   },
   "source": [
    "Random forest"
   ]
  },
  {
   "cell_type": "code",
   "execution_count": 27,
   "metadata": {
    "id": "niYq6-feb175"
   },
   "outputs": [],
   "source": [
    "from sklearn.ensemble import RandomForestRegressor\n",
    "\n",
    "def evaluate(model, test_features, test_labels):\n",
    "    predictions = model.predict(test_features)\n",
    "    errors = abs(predictions - test_labels)\n",
    "    mape = 100 * np.mean(errors / test_labels)\n",
    "    accuracy = 100 - mape\n",
    "    print('Model Performance')\n",
    "    print('Average Error: {:0.4f} degrees.'.format(np.mean(errors)))\n",
    "    print('Accuracy = {:0.2f}%.'.format(accuracy))\n",
    "    \n",
    "    return accuracy\n",
    "\n",
    "\n",
    "def runModel(train_features, train_labels, test_features, test_labels, trees, depth):\n",
    "  print(\"Trees: \", trees)\n",
    "  # Set up and run the model\n",
    "  rf = RandomForestRegressor(n_estimators = trees, max_depth=depth)\n",
    "  rf.fit(train_features, train_labels);\n",
    "\n",
    "  predictions = rf.predict(test_features)\n",
    "  # Calculate the absolute errors\n",
    "  errors = abs(predictions - test_labels)\n",
    "  # Print out the mean absolute error (mae)\n",
    "  print('Mean Absolute Error:', round(np.mean(errors), 2), 'degrees.')\n",
    "    \n",
    "\n",
    "  accuracy = evaluate(rf, test_features, test_labels)\n",
    "  return accuracy"
   ]
  },
  {
   "cell_type": "code",
   "execution_count": 28,
   "metadata": {
    "colab": {
     "base_uri": "https://localhost:8080/"
    },
    "id": "aFzEcAO5cVZN",
    "outputId": "2c5c75fa-4b3c-45db-8d78-477c667a093e"
   },
   "outputs": [
    {
     "ename": "KeyError",
     "evalue": "\"['redion_cat'] not found in axis\"",
     "output_type": "error",
     "traceback": [
      "\u001b[0;31m---------------------------------------\u001b[0m",
      "\u001b[0;31mKeyError\u001b[0mTraceback (most recent call last)",
      "\u001b[0;32m<ipython-input-28-edbcb01f559d>\u001b[0m in \u001b[0;36m<module>\u001b[0;34m\u001b[0m\n\u001b[1;32m      1\u001b[0m \u001b[0;32mimport\u001b[0m \u001b[0mscorecardpy\u001b[0m \u001b[0;32mas\u001b[0m \u001b[0msc\u001b[0m\u001b[0;34m\u001b[0m\u001b[0;34m\u001b[0m\u001b[0m\n\u001b[1;32m      2\u001b[0m \u001b[0;34m\u001b[0m\u001b[0m\n\u001b[0;32m----> 3\u001b[0;31m Z = df_copy.drop(['2017','Area (sq. mi.)','Pop. Density (per sq. mi.)','Coastline (coast/area ratio)','Net migration','Crops (%)','Industry','Service',\n\u001b[0m\u001b[1;32m      4\u001b[0m                   \u001b[0;34m'redion_cat'\u001b[0m\u001b[0;34m,\u001b[0m\u001b[0;34m'Arable (%)'\u001b[0m\u001b[0;34m,\u001b[0m    \u001b[0;34m'Other (%)'\u001b[0m\u001b[0;34m,\u001b[0m \u001b[0;34m'Phones (per 1000)'\u001b[0m\u001b[0;34m,\u001b[0m\u001b[0;34m'Agriculture'\u001b[0m\u001b[0;34m,\u001b[0m \u001b[0;34m'Deathrate'\u001b[0m\u001b[0;34m,\u001b[0m\u001b[0;34m'Climate'\u001b[0m\u001b[0;34m,\u001b[0m\u001b[0;34m'Population'\u001b[0m\u001b[0;34m,\u001b[0m\u001b[0;34m'Infant mortality (per 1000 births)'\u001b[0m\u001b[0;34m\u001b[0m\u001b[0;34m\u001b[0m\u001b[0m\n\u001b[1;32m      5\u001b[0m \u001b[0;34m\u001b[0m\u001b[0m\n",
      "\u001b[0;32m~/opt/anaconda3/lib/python3.8/site-packages/pandas/core/frame.py\u001b[0m in \u001b[0;36mdrop\u001b[0;34m(self, labels, axis, index, columns, level, inplace, errors)\u001b[0m\n\u001b[1;32m   4161\u001b[0m                 \u001b[0mweight\u001b[0m  \u001b[0;36m1.0\u001b[0m     \u001b[0;36m0.8\u001b[0m\u001b[0;34m\u001b[0m\u001b[0;34m\u001b[0m\u001b[0m\n\u001b[1;32m   4162\u001b[0m         \"\"\"\n\u001b[0;32m-> 4163\u001b[0;31m         return super().drop(\n\u001b[0m\u001b[1;32m   4164\u001b[0m             \u001b[0mlabels\u001b[0m\u001b[0;34m=\u001b[0m\u001b[0mlabels\u001b[0m\u001b[0;34m,\u001b[0m\u001b[0;34m\u001b[0m\u001b[0;34m\u001b[0m\u001b[0m\n\u001b[1;32m   4165\u001b[0m             \u001b[0maxis\u001b[0m\u001b[0;34m=\u001b[0m\u001b[0maxis\u001b[0m\u001b[0;34m,\u001b[0m\u001b[0;34m\u001b[0m\u001b[0;34m\u001b[0m\u001b[0m\n",
      "\u001b[0;32m~/opt/anaconda3/lib/python3.8/site-packages/pandas/core/generic.py\u001b[0m in \u001b[0;36mdrop\u001b[0;34m(self, labels, axis, index, columns, level, inplace, errors)\u001b[0m\n\u001b[1;32m   3885\u001b[0m         \u001b[0;32mfor\u001b[0m \u001b[0maxis\u001b[0m\u001b[0;34m,\u001b[0m \u001b[0mlabels\u001b[0m \u001b[0;32min\u001b[0m \u001b[0maxes\u001b[0m\u001b[0;34m.\u001b[0m\u001b[0mitems\u001b[0m\u001b[0;34m(\u001b[0m\u001b[0;34m)\u001b[0m\u001b[0;34m:\u001b[0m\u001b[0;34m\u001b[0m\u001b[0;34m\u001b[0m\u001b[0m\n\u001b[1;32m   3886\u001b[0m             \u001b[0;32mif\u001b[0m \u001b[0mlabels\u001b[0m \u001b[0;32mis\u001b[0m \u001b[0;32mnot\u001b[0m \u001b[0;32mNone\u001b[0m\u001b[0;34m:\u001b[0m\u001b[0;34m\u001b[0m\u001b[0;34m\u001b[0m\u001b[0m\n\u001b[0;32m-> 3887\u001b[0;31m                 \u001b[0mobj\u001b[0m \u001b[0;34m=\u001b[0m \u001b[0mobj\u001b[0m\u001b[0;34m.\u001b[0m\u001b[0m_drop_axis\u001b[0m\u001b[0;34m(\u001b[0m\u001b[0mlabels\u001b[0m\u001b[0;34m,\u001b[0m \u001b[0maxis\u001b[0m\u001b[0;34m,\u001b[0m \u001b[0mlevel\u001b[0m\u001b[0;34m=\u001b[0m\u001b[0mlevel\u001b[0m\u001b[0;34m,\u001b[0m \u001b[0merrors\u001b[0m\u001b[0;34m=\u001b[0m\u001b[0merrors\u001b[0m\u001b[0;34m)\u001b[0m\u001b[0;34m\u001b[0m\u001b[0;34m\u001b[0m\u001b[0m\n\u001b[0m\u001b[1;32m   3888\u001b[0m \u001b[0;34m\u001b[0m\u001b[0m\n\u001b[1;32m   3889\u001b[0m         \u001b[0;32mif\u001b[0m \u001b[0minplace\u001b[0m\u001b[0;34m:\u001b[0m\u001b[0;34m\u001b[0m\u001b[0;34m\u001b[0m\u001b[0m\n",
      "\u001b[0;32m~/opt/anaconda3/lib/python3.8/site-packages/pandas/core/generic.py\u001b[0m in \u001b[0;36m_drop_axis\u001b[0;34m(self, labels, axis, level, errors)\u001b[0m\n\u001b[1;32m   3919\u001b[0m                 \u001b[0mnew_axis\u001b[0m \u001b[0;34m=\u001b[0m \u001b[0maxis\u001b[0m\u001b[0;34m.\u001b[0m\u001b[0mdrop\u001b[0m\u001b[0;34m(\u001b[0m\u001b[0mlabels\u001b[0m\u001b[0;34m,\u001b[0m \u001b[0mlevel\u001b[0m\u001b[0;34m=\u001b[0m\u001b[0mlevel\u001b[0m\u001b[0;34m,\u001b[0m \u001b[0merrors\u001b[0m\u001b[0;34m=\u001b[0m\u001b[0merrors\u001b[0m\u001b[0;34m)\u001b[0m\u001b[0;34m\u001b[0m\u001b[0;34m\u001b[0m\u001b[0m\n\u001b[1;32m   3920\u001b[0m             \u001b[0;32melse\u001b[0m\u001b[0;34m:\u001b[0m\u001b[0;34m\u001b[0m\u001b[0;34m\u001b[0m\u001b[0m\n\u001b[0;32m-> 3921\u001b[0;31m                 \u001b[0mnew_axis\u001b[0m \u001b[0;34m=\u001b[0m \u001b[0maxis\u001b[0m\u001b[0;34m.\u001b[0m\u001b[0mdrop\u001b[0m\u001b[0;34m(\u001b[0m\u001b[0mlabels\u001b[0m\u001b[0;34m,\u001b[0m \u001b[0merrors\u001b[0m\u001b[0;34m=\u001b[0m\u001b[0merrors\u001b[0m\u001b[0;34m)\u001b[0m\u001b[0;34m\u001b[0m\u001b[0;34m\u001b[0m\u001b[0m\n\u001b[0m\u001b[1;32m   3922\u001b[0m             \u001b[0mresult\u001b[0m \u001b[0;34m=\u001b[0m \u001b[0mself\u001b[0m\u001b[0;34m.\u001b[0m\u001b[0mreindex\u001b[0m\u001b[0;34m(\u001b[0m\u001b[0;34m**\u001b[0m\u001b[0;34m{\u001b[0m\u001b[0maxis_name\u001b[0m\u001b[0;34m:\u001b[0m \u001b[0mnew_axis\u001b[0m\u001b[0;34m}\u001b[0m\u001b[0;34m)\u001b[0m\u001b[0;34m\u001b[0m\u001b[0;34m\u001b[0m\u001b[0m\n\u001b[1;32m   3923\u001b[0m \u001b[0;34m\u001b[0m\u001b[0m\n",
      "\u001b[0;32m~/opt/anaconda3/lib/python3.8/site-packages/pandas/core/indexes/base.py\u001b[0m in \u001b[0;36mdrop\u001b[0;34m(self, labels, errors)\u001b[0m\n\u001b[1;32m   5280\u001b[0m         \u001b[0;32mif\u001b[0m \u001b[0mmask\u001b[0m\u001b[0;34m.\u001b[0m\u001b[0many\u001b[0m\u001b[0;34m(\u001b[0m\u001b[0;34m)\u001b[0m\u001b[0;34m:\u001b[0m\u001b[0;34m\u001b[0m\u001b[0;34m\u001b[0m\u001b[0m\n\u001b[1;32m   5281\u001b[0m             \u001b[0;32mif\u001b[0m \u001b[0merrors\u001b[0m \u001b[0;34m!=\u001b[0m \u001b[0;34m\"ignore\"\u001b[0m\u001b[0;34m:\u001b[0m\u001b[0;34m\u001b[0m\u001b[0;34m\u001b[0m\u001b[0m\n\u001b[0;32m-> 5282\u001b[0;31m                 \u001b[0;32mraise\u001b[0m \u001b[0mKeyError\u001b[0m\u001b[0;34m(\u001b[0m\u001b[0;34mf\"{labels[mask]} not found in axis\"\u001b[0m\u001b[0;34m)\u001b[0m\u001b[0;34m\u001b[0m\u001b[0;34m\u001b[0m\u001b[0m\n\u001b[0m\u001b[1;32m   5283\u001b[0m             \u001b[0mindexer\u001b[0m \u001b[0;34m=\u001b[0m \u001b[0mindexer\u001b[0m\u001b[0;34m[\u001b[0m\u001b[0;34m~\u001b[0m\u001b[0mmask\u001b[0m\u001b[0;34m]\u001b[0m\u001b[0;34m\u001b[0m\u001b[0;34m\u001b[0m\u001b[0m\n\u001b[1;32m   5284\u001b[0m         \u001b[0;32mreturn\u001b[0m \u001b[0mself\u001b[0m\u001b[0;34m.\u001b[0m\u001b[0mdelete\u001b[0m\u001b[0;34m(\u001b[0m\u001b[0mindexer\u001b[0m\u001b[0;34m)\u001b[0m\u001b[0;34m\u001b[0m\u001b[0;34m\u001b[0m\u001b[0m\n",
      "\u001b[0;31mKeyError\u001b[0m: \"['redion_cat'] not found in axis\""
     ]
    }
   ],
   "source": [
    "import scorecardpy as sc\n",
    "\t\t\n",
    "Z = df_copy.drop(['2017','Area (sq. mi.)','Pop. Density (per sq. mi.)','Coastline (coast/area ratio)','Net migration','Crops (%)','Industry','Service',\n",
    "                  'redion_cat','Arable (%)',\t'Other (%)', 'Phones (per 1000)','Agriculture', 'Deathrate','Climate','Population','Infant mortality (per 1000 births)'\n",
    "                  \n",
    "                  \n",
    "                  ], 1)\n",
    "#Z= df_copy['Agriculture',]\n",
    "lbl = df_copy['2017']\n",
    "train_features, test_features, train_labels, test_labels = train_test_split(Z,lbl,test_size = 0.25, random_state = 42)\n",
    "base_accuracy = runModel(train_features, train_labels, test_features, test_labels, 20, None)\n",
    "print(\"Base accuracy:\", base_accuracy)"
   ]
  },
  {
   "cell_type": "code",
   "execution_count": 29,
   "metadata": {
    "colab": {
     "base_uri": "https://localhost:8080/",
     "height": 1000
    },
    "id": "KqrlGYzgnR0X",
    "outputId": "40831e22-388a-42b7-8446-326ac5b6be4e"
   },
   "outputs": [
    {
     "ename": "NameError",
     "evalue": "name 'treeCount' is not defined",
     "output_type": "error",
     "traceback": [
      "\u001b[0;31m---------------------------------------\u001b[0m",
      "\u001b[0;31mNameError\u001b[0mTraceback (most recent call last)",
      "\u001b[0;32m<ipython-input-29-a12eed2accc5>\u001b[0m in \u001b[0;36m<module>\u001b[0;34m\u001b[0m\n\u001b[1;32m      1\u001b[0m \u001b[0maccuracies2\u001b[0m \u001b[0;34m=\u001b[0m \u001b[0;34m[\u001b[0m\u001b[0;34m]\u001b[0m\u001b[0;34m\u001b[0m\u001b[0;34m\u001b[0m\u001b[0m\n\u001b[1;32m      2\u001b[0m \u001b[0mdepth\u001b[0m \u001b[0;34m=\u001b[0m \u001b[0;34m[\u001b[0m\u001b[0;36m1\u001b[0m\u001b[0;34m,\u001b[0m \u001b[0;36m2\u001b[0m\u001b[0;34m,\u001b[0m \u001b[0;36m3\u001b[0m\u001b[0;34m,\u001b[0m \u001b[0;36m50\u001b[0m\u001b[0;34m,\u001b[0m \u001b[0;36m100\u001b[0m\u001b[0;34m,\u001b[0m \u001b[0;36m200\u001b[0m\u001b[0;34m,\u001b[0m \u001b[0;36m250\u001b[0m\u001b[0;34m,\u001b[0m \u001b[0;36m300\u001b[0m\u001b[0;34m,\u001b[0m \u001b[0;36m400\u001b[0m\u001b[0;34m,\u001b[0m \u001b[0;36m500\u001b[0m\u001b[0;34m]\u001b[0m\u001b[0;34m\u001b[0m\u001b[0;34m\u001b[0m\u001b[0m\n\u001b[0;32m----> 3\u001b[0;31m \u001b[0;32mfor\u001b[0m \u001b[0mi\u001b[0m \u001b[0;32min\u001b[0m \u001b[0mtreeCount\u001b[0m\u001b[0;34m:\u001b[0m\u001b[0;34m\u001b[0m\u001b[0;34m\u001b[0m\u001b[0m\n\u001b[0m\u001b[1;32m      4\u001b[0m   \u001b[0maccuracies2\u001b[0m\u001b[0;34m.\u001b[0m\u001b[0mappend\u001b[0m\u001b[0;34m(\u001b[0m\u001b[0mrunModel\u001b[0m\u001b[0;34m(\u001b[0m\u001b[0mtrain_features\u001b[0m\u001b[0;34m,\u001b[0m \u001b[0mtrain_labels\u001b[0m\u001b[0;34m,\u001b[0m \u001b[0mtest_features\u001b[0m\u001b[0;34m,\u001b[0m \u001b[0mtest_labels\u001b[0m\u001b[0;34m,\u001b[0m \u001b[0mi\u001b[0m\u001b[0;34m,\u001b[0m\u001b[0;32mNone\u001b[0m\u001b[0;34m)\u001b[0m\u001b[0;34m)\u001b[0m\u001b[0;34m\u001b[0m\u001b[0;34m\u001b[0m\u001b[0m\n\u001b[1;32m      5\u001b[0m \u001b[0;34m\u001b[0m\u001b[0m\n",
      "\u001b[0;31mNameError\u001b[0m: name 'treeCount' is not defined"
     ]
    }
   ],
   "source": [
    "accuracies2 = []\n",
    "depth = [1, 2, 3, 50, 100, 200, 250, 300, 400, 500]\n",
    "for i in treeCount:\n",
    "  accuracies2.append(runModel(train_features, train_labels, test_features, test_labels, i,None))\n",
    "\n",
    "plt.figure(figsize=(13,8))\n",
    "index = np.arange(len(accuracies2))\n",
    "plt.bar(index, accuracies2)\n",
    "plt.xlabel('Depth', fontsize=8)\n",
    "plt.ylabel('Accuracies', fontsize=8)\n",
    "plt.xticks(index, depth, fontsize=8, rotation=30)\n",
    "plt.title('Overview of depth change')\n",
    "plt.show()"
   ]
  },
  {
   "cell_type": "code",
   "execution_count": 30,
   "metadata": {
    "colab": {
     "base_uri": "https://localhost:8080/",
     "height": 107
    },
    "id": "oyTlpIe8mgLe",
    "outputId": "7b81a4f2-cee8-4fde-ec88-54ff93a60589"
   },
   "outputs": [
    {
     "ename": "NameError",
     "evalue": "name 'Z' is not defined",
     "output_type": "error",
     "traceback": [
      "\u001b[0;31m---------------------------------------\u001b[0m",
      "\u001b[0;31mNameError\u001b[0mTraceback (most recent call last)",
      "\u001b[0;32m<ipython-input-30-01316acc5052>\u001b[0m in \u001b[0;36m<module>\u001b[0;34m\u001b[0m\n\u001b[0;32m----> 1\u001b[0;31m \u001b[0mZ\u001b[0m\u001b[0;34m.\u001b[0m\u001b[0mhead\u001b[0m\u001b[0;34m(\u001b[0m\u001b[0;36m1\u001b[0m\u001b[0;34m)\u001b[0m\u001b[0;34m\u001b[0m\u001b[0;34m\u001b[0m\u001b[0m\n\u001b[0m",
      "\u001b[0;31mNameError\u001b[0m: name 'Z' is not defined"
     ]
    }
   ],
   "source": [
    "Z.head(1)"
   ]
  },
  {
   "cell_type": "code",
   "execution_count": 31,
   "metadata": {
    "colab": {
     "base_uri": "https://localhost:8080/",
     "height": 1000
    },
    "id": "ixOSBLapcrLS",
    "outputId": "d5010928-c5db-46c2-aee7-64f8c7d1a12f"
   },
   "outputs": [
    {
     "ename": "NameError",
     "evalue": "name 'train_features' is not defined",
     "output_type": "error",
     "traceback": [
      "\u001b[0;31m---------------------------------------\u001b[0m",
      "\u001b[0;31mNameError\u001b[0mTraceback (most recent call last)",
      "\u001b[0;32m<ipython-input-31-a07deb675c1e>\u001b[0m in \u001b[0;36m<module>\u001b[0;34m\u001b[0m\n\u001b[1;32m      4\u001b[0m \u001b[0mtreeCount\u001b[0m \u001b[0;34m=\u001b[0m \u001b[0;34m[\u001b[0m\u001b[0;36m1\u001b[0m\u001b[0;34m,\u001b[0m \u001b[0;36m2\u001b[0m\u001b[0;34m,\u001b[0m \u001b[0;36m3\u001b[0m\u001b[0;34m,\u001b[0m \u001b[0;36m5\u001b[0m\u001b[0;34m,\u001b[0m \u001b[0;36m10\u001b[0m\u001b[0;34m,\u001b[0m \u001b[0;36m20\u001b[0m\u001b[0;34m,\u001b[0m \u001b[0;36m25\u001b[0m\u001b[0;34m,\u001b[0m \u001b[0;36m30\u001b[0m\u001b[0;34m,\u001b[0m \u001b[0;36m40\u001b[0m\u001b[0;34m,\u001b[0m \u001b[0;36m50\u001b[0m\u001b[0;34m,\u001b[0m\u001b[0;36m60\u001b[0m\u001b[0;34m,\u001b[0m\u001b[0;36m70\u001b[0m\u001b[0;34m,\u001b[0m\u001b[0;36m80\u001b[0m\u001b[0;34m,\u001b[0m\u001b[0;36m90\u001b[0m\u001b[0;34m,\u001b[0m\u001b[0;36m100\u001b[0m\u001b[0;34m,\u001b[0m\u001b[0;36m1000\u001b[0m\u001b[0;34m]\u001b[0m\u001b[0;34m\u001b[0m\u001b[0;34m\u001b[0m\u001b[0m\n\u001b[1;32m      5\u001b[0m \u001b[0;32mfor\u001b[0m \u001b[0mi\u001b[0m \u001b[0;32min\u001b[0m \u001b[0mtreeCount\u001b[0m\u001b[0;34m:\u001b[0m\u001b[0;34m\u001b[0m\u001b[0;34m\u001b[0m\u001b[0m\n\u001b[0;32m----> 6\u001b[0;31m   \u001b[0maccuracies\u001b[0m\u001b[0;34m.\u001b[0m\u001b[0mappend\u001b[0m\u001b[0;34m(\u001b[0m\u001b[0mrunModel\u001b[0m\u001b[0;34m(\u001b[0m\u001b[0mtrain_features\u001b[0m\u001b[0;34m,\u001b[0m \u001b[0mtrain_labels\u001b[0m\u001b[0;34m,\u001b[0m \u001b[0mtest_features\u001b[0m\u001b[0;34m,\u001b[0m \u001b[0mtest_labels\u001b[0m\u001b[0;34m,\u001b[0m \u001b[0mi\u001b[0m\u001b[0;34m,\u001b[0m \u001b[0;32mNone\u001b[0m\u001b[0;34m)\u001b[0m\u001b[0;34m)\u001b[0m\u001b[0;34m\u001b[0m\u001b[0;34m\u001b[0m\u001b[0m\n\u001b[0m\u001b[1;32m      7\u001b[0m \u001b[0;34m\u001b[0m\u001b[0m\n\u001b[1;32m      8\u001b[0m \u001b[0mplt\u001b[0m\u001b[0;34m.\u001b[0m\u001b[0mfigure\u001b[0m\u001b[0;34m(\u001b[0m\u001b[0mfigsize\u001b[0m\u001b[0;34m=\u001b[0m\u001b[0;34m(\u001b[0m\u001b[0;36m13\u001b[0m\u001b[0;34m,\u001b[0m\u001b[0;36m8\u001b[0m\u001b[0;34m)\u001b[0m\u001b[0;34m)\u001b[0m\u001b[0;34m\u001b[0m\u001b[0;34m\u001b[0m\u001b[0m\n",
      "\u001b[0;31mNameError\u001b[0m: name 'train_features' is not defined"
     ]
    }
   ],
   "source": [
    "# Let's calculate accuracies in range of 1 - 10 trees\n",
    "\n",
    "accuracies = []\n",
    "treeCount = [1, 2, 3, 5, 10, 20, 25, 30, 40, 50,60,70,80,90,100,1000]\n",
    "for i in treeCount:\n",
    "  accuracies.append(runModel(train_features, train_labels, test_features, test_labels, i, None))\n",
    "\n",
    "plt.figure(figsize=(13,8))\n",
    "index = np.arange(len(accuracies))\n",
    "plt.bar(index, accuracies)\n",
    "plt.xlabel('Trees in Forest', fontsize=8)\n",
    "plt.ylabel('Accuracies', fontsize=8)\n",
    "plt.xticks(index, treeCount, fontsize=8, rotation=30)\n",
    "plt.title('Overview of tree size change')\n",
    "plt.show()"
   ]
  },
  {
   "cell_type": "code",
   "execution_count": 32,
   "metadata": {
    "colab": {
     "base_uri": "https://localhost:8080/"
    },
    "id": "OM2wnxFzcv47",
    "outputId": "0134490a-ac6a-4a24-a9c6-a5bf844bfd5a"
   },
   "outputs": [
    {
     "ename": "NameError",
     "evalue": "name 'rf' is not defined",
     "output_type": "error",
     "traceback": [
      "\u001b[0;31m---------------------------------------\u001b[0m",
      "\u001b[0;31mNameError\u001b[0mTraceback (most recent call last)",
      "\u001b[0;32m<ipython-input-32-8279455db57b>\u001b[0m in \u001b[0;36m<module>\u001b[0;34m\u001b[0m\n\u001b[0;32m----> 1\u001b[0;31m \u001b[0mimportances\u001b[0m \u001b[0;34m=\u001b[0m \u001b[0mlist\u001b[0m\u001b[0;34m(\u001b[0m\u001b[0mrf\u001b[0m\u001b[0;34m.\u001b[0m\u001b[0mfeature_importances_\u001b[0m\u001b[0;34m)\u001b[0m\u001b[0;34m\u001b[0m\u001b[0;34m\u001b[0m\u001b[0m\n\u001b[0m\u001b[1;32m      2\u001b[0m \u001b[0mprint\u001b[0m\u001b[0;34m(\u001b[0m\u001b[0mrf\u001b[0m\u001b[0;34m.\u001b[0m\u001b[0mfeature_importances_\u001b[0m\u001b[0;34m)\u001b[0m\u001b[0;34m\u001b[0m\u001b[0;34m\u001b[0m\u001b[0m\n",
      "\u001b[0;31mNameError\u001b[0m: name 'rf' is not defined"
     ]
    }
   ],
   "source": [
    "importances = list(rf.feature_importances_)\n",
    "print(rf.feature_importances_)"
   ]
  },
  {
   "cell_type": "code",
   "execution_count": 33,
   "metadata": {
    "id": "WmfpjlS7ccRG"
   },
   "outputs": [
    {
     "ename": "NameError",
     "evalue": "name 'train_features' is not defined",
     "output_type": "error",
     "traceback": [
      "\u001b[0;31m---------------------------------------\u001b[0m",
      "\u001b[0;31mNameError\u001b[0mTraceback (most recent call last)",
      "\u001b[0;32m<ipython-input-33-d10100ebb30b>\u001b[0m in \u001b[0;36m<module>\u001b[0;34m\u001b[0m\n\u001b[1;32m      3\u001b[0m \u001b[0mrf\u001b[0m \u001b[0;34m=\u001b[0m \u001b[0mRandomForestRegressor\u001b[0m\u001b[0;34m(\u001b[0m\u001b[0mn_estimators\u001b[0m \u001b[0;34m=\u001b[0m \u001b[0;36m1000\u001b[0m\u001b[0;34m,\u001b[0m \u001b[0mrandom_state\u001b[0m \u001b[0;34m=\u001b[0m \u001b[0;36m42\u001b[0m\u001b[0;34m)\u001b[0m\u001b[0;34m\u001b[0m\u001b[0;34m\u001b[0m\u001b[0m\n\u001b[1;32m      4\u001b[0m \u001b[0;31m# Train the model on training data\u001b[0m\u001b[0;34m\u001b[0m\u001b[0;34m\u001b[0m\u001b[0;34m\u001b[0m\u001b[0m\n\u001b[0;32m----> 5\u001b[0;31m \u001b[0mrf\u001b[0m\u001b[0;34m.\u001b[0m\u001b[0mfit\u001b[0m\u001b[0;34m(\u001b[0m\u001b[0mtrain_features\u001b[0m\u001b[0;34m,\u001b[0m \u001b[0mtrain_labels\u001b[0m\u001b[0;34m)\u001b[0m\u001b[0;34m;\u001b[0m\u001b[0;34m\u001b[0m\u001b[0;34m\u001b[0m\u001b[0m\n\u001b[0m\u001b[1;32m      6\u001b[0m \u001b[0mtree\u001b[0m \u001b[0;34m=\u001b[0m \u001b[0mrf\u001b[0m\u001b[0;34m.\u001b[0m\u001b[0mestimators_\u001b[0m\u001b[0;34m[\u001b[0m\u001b[0;36m5\u001b[0m\u001b[0;34m]\u001b[0m\u001b[0;34m\u001b[0m\u001b[0;34m\u001b[0m\u001b[0m\n\u001b[1;32m      7\u001b[0m \u001b[0;34m\u001b[0m\u001b[0m\n",
      "\u001b[0;31mNameError\u001b[0m: name 'train_features' is not defined"
     ]
    }
   ],
   "source": [
    "# Pull out one tree from the forest  \n",
    "# Instantiate model with 1000 decision trees\n",
    "rf = RandomForestRegressor(n_estimators = 1000, random_state = 42)\n",
    "# Train the model on training data\n",
    "rf.fit(train_features, train_labels);\n",
    "tree = rf.estimators_[5]\n",
    "\n",
    "# Pull out one tree from the forest\n",
    "tree = rf.estimators_[5]\n",
    "# Saving feature names for later use\n",
    "feature_list = list(Z.columns)\n",
    "# Export the image to a dot file\n",
    "export_graphviz(tree, out_file = 'tree.dot', feature_names = feature_list, rounded = True, precision = 1)\n",
    "# Use dot file to create a graph\n",
    "(graph, ) = pydot.graph_from_dot_file('tree.dot')\n",
    "# Write graph to a png file\n",
    "graph.write_png('tree.png')"
   ]
  },
  {
   "cell_type": "markdown",
   "metadata": {},
   "source": [
    "## Modeling"
   ]
  },
  {
   "cell_type": "code",
   "execution_count": null,
   "metadata": {},
   "outputs": [],
   "source": []
  }
 ],
 "metadata": {
  "colab": {
   "collapsed_sections": [],
   "name": "DOPP_ex3.ipynb",
   "provenance": []
  },
  "kernelspec": {
   "display_name": "Python 3",
   "language": "python",
   "name": "python3"
  },
  "language_info": {
   "codemirror_mode": {
    "name": "ipython",
    "version": 3
   },
   "file_extension": ".py",
   "mimetype": "text/x-python",
   "name": "python",
   "nbconvert_exporter": "python",
   "pygments_lexer": "ipython3",
   "version": "3.8.5"
  }
 },
 "nbformat": 4,
 "nbformat_minor": 1
}
